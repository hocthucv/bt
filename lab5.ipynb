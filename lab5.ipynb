{
  "nbformat": 4,
  "nbformat_minor": 0,
  "metadata": {
    "colab": {
      "name": "lab5.ipynb",
      "provenance": [],
      "collapsed_sections": []
    },
    "kernelspec": {
      "name": "python3",
      "display_name": "Python 3"
    }
  },
  "cells": [
    {
      "cell_type": "markdown",
      "metadata": {
        "id": "QS0aF7YzLKCO"
      },
      "source": [
        "Cho số nguyên dương n được nhập từ bàn phím, bạn hãy viết chương trình hiển thị ra màn hình tổng các số từ 1 tới n"
      ]
    },
    {
      "cell_type": "code",
      "metadata": {
        "id": "NlAxhfYsLJIb"
      },
      "source": [
        "sum = 0\r\n",
        "for i in range(int(input()) + 1):\r\n",
        "    sum = sum + i\r\n",
        "print(sum)"
      ],
      "execution_count": null,
      "outputs": []
    },
    {
      "cell_type": "markdown",
      "metadata": {
        "id": "Qf_UWuxLLM0d"
      },
      "source": [
        "Cho 2 số nguyên a và b được nhập từ bàn phím, bạn hãy viết chương trình hiển thị ra tổng các số lẻ từ a tới b."
      ]
    },
    {
      "cell_type": "code",
      "metadata": {
        "id": "F1c-gu6NLQGn"
      },
      "source": [
        "a,b = 2,1\r\n",
        "while a >= b:\r\n",
        "  a = int(input())\r\n",
        "  b = int(input())\r\n",
        "  if b > a:\r\n",
        "    break\r\n",
        "tong = 0\r\n",
        "for i in range(a,b+1):\r\n",
        "  if i % 2 != 0:\r\n",
        "    tong += i\r\n",
        "print(tong)"
      ],
      "execution_count": null,
      "outputs": []
    },
    {
      "cell_type": "markdown",
      "metadata": {
        "id": "iN0wnAwmLeUU"
      },
      "source": [
        "Cho chuỗi s được nhập từ bàn phím, bạn hãy viết chương trình hiển thị ra màn hình các kí tự khác kí tự 'y' trong chuỗi s."
      ]
    },
    {
      "cell_type": "code",
      "metadata": {
        "id": "URYAsZiuLfWi"
      },
      "source": [
        "s = str(input())\r\n",
        "for i in s:\r\n",
        "  if i != 'y':\r\n",
        "    print('Current character:',i)"
      ],
      "execution_count": null,
      "outputs": []
    },
    {
      "cell_type": "markdown",
      "metadata": {
        "id": "acHmo13TLiBk"
      },
      "source": [
        "Cho số nguyên a được nhập từ bàn phím, bãn hãy viết chương trình hiển thị ra kết quả khi nhân a với các số từ 1 đến 5."
      ]
    },
    {
      "cell_type": "code",
      "metadata": {
        "id": "OxnvYvZlLwIt"
      },
      "source": [
        "a = int(input())\r\n",
        "for i in range(1,6):\r\n",
        "  print(a, \"*\", i, \"=\", a * i)"
      ],
      "execution_count": null,
      "outputs": []
    },
    {
      "cell_type": "markdown",
      "metadata": {
        "id": "JvSRBT50LyIV"
      },
      "source": [
        "Cho hai số nguyên a và b được nhập từ bàn phím, bạn hãy viết chương trình đếm số các số chẵn và số các số lẻ trong khoảng từ a tới b. Sau đó hiển thị ra màn hình thông tin sau:\r\n",
        "\r\n",
        "Number of even numbers: {P1}\r\n",
        "Number of odd numbers: {P2}\r\n",
        "Trong đó {P1} và {P2} lần lượt là số các số chẵn và số các số lẻ trong khoảng [a, b]."
      ]
    },
    {
      "cell_type": "code",
      "metadata": {
        "id": "mfgXD8ctL2Jw"
      },
      "source": [
        "a = int(input())\r\n",
        "b = int(input())\r\n",
        "count_odd = 0\r\n",
        "count_even = 0\r\n",
        "\r\n",
        "for i in range(a, b + 1):\r\n",
        "    if i % 2 == 0:\r\n",
        "        count_even += 1\r\n",
        "    else:\r\n",
        "        count_odd += 1\r\n",
        "\r\n",
        "print(\"Number of even numbers:\", count_even)\r\n",
        "print(\"Number of odd numbers:\", count_odd)"
      ],
      "execution_count": null,
      "outputs": []
    },
    {
      "cell_type": "markdown",
      "metadata": {
        "id": "ZZatCqwLL8vm"
      },
      "source": [
        "Cho số nguyên n được nhập vào từ bàn phím, bạn hãy viết chương trình hiển thị ra tổng của dãy số 1/2 + 2/3 + ... + n/n+1.\r\n",
        "\r\n",
        "Lưu ý: chỉ hiển thị 2 chữ số thập phân sau dấu phẩy."
      ]
    },
    {
      "cell_type": "code",
      "metadata": {
        "id": "DJ-f4N2FL9wV"
      },
      "source": [
        "n = int(input())\r\n",
        "ans = 0\r\n",
        "for i in range(1, n+1):\r\n",
        "    ans += i / (i + 1)\r\n",
        "\r\n",
        "print(round(ans, 2))"
      ],
      "execution_count": null,
      "outputs": []
    }
  ]
}