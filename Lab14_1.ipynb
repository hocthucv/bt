{
  "nbformat": 4,
  "nbformat_minor": 0,
  "metadata": {
    "colab": {
      "name": "Lab14.1.ipynb",
      "provenance": [],
      "collapsed_sections": [],
      "authorship_tag": "ABX9TyOLvqGW1SIClUDEZiYcHfiJ",
      "include_colab_link": true
    },
    "kernelspec": {
      "name": "python3",
      "display_name": "Python 3"
    },
    "language_info": {
      "name": "python"
    }
  },
  "cells": [
    {
      "cell_type": "markdown",
      "metadata": {
        "id": "view-in-github",
        "colab_type": "text"
      },
      "source": [
        "<a href=\"https://colab.research.google.com/github/hocthucv/bt/blob/main/Lab14_1.ipynb\" target=\"_parent\"><img src=\"https://colab.research.google.com/assets/colab-badge.svg\" alt=\"Open In Colab\"/></a>"
      ]
    },
    {
      "cell_type": "code",
      "metadata": {
        "colab": {
          "base_uri": "https://localhost:8080/"
        },
        "id": "Pga7FuFRTUQ3",
        "outputId": "9ac81ceb-0a96-4202-8113-4bb280773ab1"
      },
      "source": [
        "import queue\n",
        "\n",
        "def distance(adj, cost, _u, _v):\n",
        "\n",
        "    dist = [10**9] * len(adj)\n",
        "    dist[_u] = 0\n",
        "    qH = queue.PriorityQueue()\n",
        "    qH.put(_u)\n",
        "\n",
        "\n",
        "    while not qH.empty():\n",
        "        u = qH.get()\n",
        "        for v in adj[u]:\n",
        "            v_ind = adj[u].index(v)\n",
        "            if dist[v] > dist[u] + cost[u][v_ind]:\n",
        "                dist[v] = dist[u] + cost[u][v_ind]\n",
        "                qH.put(v)\n",
        "\n",
        "    if dist[_v] == 10**9:\n",
        "        return -1\n",
        "    else:\n",
        "        return dist[_v]\n",
        "\n",
        "if __name__ == '__main__':\n",
        "    n, m = map(int, input().split())\n",
        "    adj = [[] for _ in range(n + 1)]\n",
        "    cost = [[] for _ in range(n + 1)]\n",
        "    for _ in range(m):\n",
        "        u,v, c = map(int, input().split())\n",
        "        adj[u].append(v)\n",
        "        cost[u].append(c)\n",
        "    _u, _v = map(int, input().split())\n",
        "    print(distance(adj, cost, _u, _v))"
      ],
      "execution_count": 9,
      "outputs": [
        {
          "output_type": "stream",
          "text": [
            "5 9\n",
            "1 2 4\n",
            "1 3 2\n",
            "2 3 2\n",
            "3 2 1\n",
            "2 4 2\n",
            "3 5 4\n",
            "5 4 1\n",
            "2 5 3\n",
            "3 4 4\n",
            "1 5\n",
            "6\n"
          ],
          "name": "stdout"
        }
      ]
    }
  ]
}