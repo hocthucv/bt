{
  "nbformat": 4,
  "nbformat_minor": 0,
  "metadata": {
    "colab": {
      "name": "Lab11.2.ipynb",
      "provenance": [],
      "collapsed_sections": []
    },
    "kernelspec": {
      "name": "python3",
      "display_name": "Python 3"
    }
  },
  "cells": [
    {
      "cell_type": "markdown",
      "metadata": {
        "id": "IC7YClEJ9cQG"
      },
      "source": [
        "Đề bài: Hoàn thiện class NhanVien và 2 phương thức tinh_luong, hien_thi_luong để in ra kết quả lương của một nhân viên trong một tháng nhất định.\r\n",
        "\r\n",
        "Lương tổng = Lương cơ bản x số ngày làm việc x hệ số lương - 1 triệu đồng.\r\n",
        "Nếu lương tổng > 9 triệu VNĐ/tháng: Lương thực nhận = 90% lương tổng.\r\n",
        "Các trường hợp khác: Lương thực nhận = lương tổng.\r\n"
      ]
    },
    {
      "cell_type": "code",
      "metadata": {
        "colab": {
          "base_uri": "https://localhost:8080/"
        },
        "id": "OpQZ3kNL9Lp9",
        "outputId": "f5a7c79b-9def-425a-fe7c-fa3a4a11b475"
      },
      "source": [
        "class NhanVien():\r\n",
        "    def __init__(self, name, n):\r\n",
        "        self.name = name\r\n",
        "        self.thang = int(n.strip().split()[0])\r\n",
        "        self.luong_co_ban = int(n.strip().split()[1])\r\n",
        "        self.he_so_luong = float(n.strip().split()[3])\r\n",
        "        self.ngay_lam_viec = int(n.strip().split()[2])\r\n",
        "        self.total_luong = self.luong_co_ban*self.ngay_lam_viec*self.he_so_luong - 1000000\r\n",
        "        self.thucnhan = self.total_luong if self.total_luong <= 9000000 else self.total_luong*0.9\r\n",
        "  \r\n",
        "    def tinh_luong(self):\r\n",
        "        return self.thucnhan\r\n",
        " \r\n",
        "    def hien_thi_luong(self):\r\n",
        "        nhan = self.tinh_luong()\r\n",
        "        print('Luong cua nhan vien {} nhan duoc trong thang {} la: {} VND.'.format(self.name,self.thang,nhan))\r\n",
        " \r\n",
        "thuc = NhanVien(input(),input())\r\n",
        "thuc.hien_thi_luong()"
      ],
      "execution_count": 2,
      "outputs": [
        {
          "output_type": "stream",
          "text": [
            "àdafsd\n",
            "4 1000000 15 1.3\n",
            "Luong cua nhan vien àdafsd nhan duoc trong thang 4 la: 16650000.0 VND.\n"
          ],
          "name": "stdout"
        }
      ]
    }
  ]
}