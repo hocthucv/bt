{
  "nbformat": 4,
  "nbformat_minor": 0,
  "metadata": {
    "colab": {
      "name": "Lab6.2.2.ipynb",
      "provenance": [],
      "collapsed_sections": [],
      "authorship_tag": "ABX9TyOpDEaStwOCeHNeMCxcWeJV",
      "include_colab_link": true
    },
    "kernelspec": {
      "name": "python3",
      "display_name": "Python 3"
    },
    "language_info": {
      "name": "python"
    }
  },
  "cells": [
    {
      "cell_type": "markdown",
      "metadata": {
        "id": "view-in-github",
        "colab_type": "text"
      },
      "source": [
        "<a href=\"https://colab.research.google.com/github/hocthucv/bt/blob/main/Lab6_2_2.ipynb\" target=\"_parent\"><img src=\"https://colab.research.google.com/assets/colab-badge.svg\" alt=\"Open In Colab\"/></a>"
      ]
    },
    {
      "cell_type": "code",
      "metadata": {
        "colab": {
          "base_uri": "https://localhost:8080/"
        },
        "id": "GZ1u23HkBMuK",
        "outputId": "69f2b50d-03ef-44e0-b82c-7dfd4daf46bb"
      },
      "source": [
        "# doubly linked list\n",
        "class Node:\n",
        "    def __init__(self, data):\n",
        "        self.data = data\n",
        "        self.next = None\n",
        "        self.prev = None\n",
        "\n",
        "class LinkedList:\n",
        "    def __init__(self):\n",
        "        self.head = None\n",
        "\n",
        "    def push_front(self, newElement):\n",
        "        newNode = Node(newElement)\n",
        "        if self.head == None:\n",
        "            self.head = newNode\n",
        "        else:\n",
        "            self.head.prev = newNode\n",
        "            newNode.next = self.head\n",
        "            self.head = newNode\n",
        "\n",
        "    def push_back(self, newElement):\n",
        "        newNode = Node(newElement)\n",
        "        if self.head == None:\n",
        "            self.head = newNode\n",
        "        else:\n",
        "            temp = self.head\n",
        "            while temp.next != None:\n",
        "                temp = temp.next\n",
        "            temp.next = newNode\n",
        "            newNode.prev = temp\n",
        "\n",
        "    def insert_at(self, position, newElement):\n",
        "        newNode = Node(newElement)\n",
        "        if position < 1:\n",
        "            print(\"Position should be >= 1.\")\n",
        "        elif position == 1:\n",
        "            newNode.next = self.head\n",
        "            self.head.prev = newNode\n",
        "            self.head = newNode\n",
        "        else:\n",
        "            temp = self.head\n",
        "            for i in range(1, position-1):\n",
        "                if temp != None:\n",
        "                    temp = temp.next\n",
        "            if temp != None:\n",
        "                newNode.next = temp.next\n",
        "                newNode.prev = temp\n",
        "                temp.next = newNode\n",
        "                if newNode.next != None:\n",
        "                    newNode.next.prev = newNode\n",
        "                else:\n",
        "                    print(\"The previous node is null.\") \n",
        "\n",
        "    def delete_at(self, position):\n",
        "        if position < 1:\n",
        "            print(\"Position should be >= 1.\")\n",
        "        elif position == 1 and self.head != None:\n",
        "            self.head = self.head.next\n",
        "            if self.head != None:\n",
        "                self.head.prev = None\n",
        "        else:\n",
        "            temp = self.head\n",
        "            for i in range(1, position-1):\n",
        "                if temp != None:\n",
        "                    temp = temp.next\n",
        "            if temp != None and temp.next != None:\n",
        "                temp.next = temp.next.next\n",
        "                if temp.next.next != None:\n",
        "                    temp.next.next.prev = temp\n",
        "            else:\n",
        "                print(\"The node is already null.\")\n",
        "\n",
        "    def PrintList(self):\n",
        "        temp = self.head\n",
        "        if temp != None:\n",
        "            print(\"The list contains:\", end=\" \")\n",
        "            while temp != None:\n",
        "                print(temp.data, end=\" \")\n",
        "                temp = temp.next\n",
        "        else:\n",
        "            print(\"The list is empty.\")\n",
        "\n",
        "#27\n",
        "print(\"27. symmetrical insertion\")\n",
        "MyList = LinkedList()\n",
        "MyList.head = Node(1)\n",
        "n = int(input())\n",
        "for i in range(2,n+1):\n",
        "    MyList.push_front(i)\n",
        "    MyList.push_back(i)\n",
        "MyList.PrintList()\n",
        "\n",
        "#28\n",
        "print(\"\\n\\n28. insert_at\")\n",
        "k, x = map(int, input().split())\n",
        "MyList.insert_at(k, x)\n",
        "MyList.PrintList()\n",
        "\n",
        "#29\n",
        "print(\"\\n\\n29. delete_at\")\n",
        "MyList.delete_at(k)\n",
        "MyList.PrintList()"
      ],
      "execution_count": 2,
      "outputs": [
        {
          "output_type": "stream",
          "text": [
            "27. symmetrical insertion\n",
            "5\n",
            "The list contains: 5 4 3 2 1 2 3 4 5 \n",
            "\n",
            "28. insert_at\n",
            "2 25\n",
            "The list contains: 5 25 4 3 2 1 2 3 4 5 \n",
            "\n",
            "29. delete_at\n",
            "The list contains: 5 4 3 2 1 2 3 4 5 "
          ],
          "name": "stdout"
        }
      ]
    },
    {
      "cell_type": "code",
      "metadata": {
        "id": "B3xsw6d0NIhk",
        "colab": {
          "base_uri": "https://localhost:8080/"
        },
        "outputId": "d05fc31b-b735-4162-884a-fe6f10a29aed"
      },
      "source": [
        "# Circular Linked List\n",
        "class CLinkedList:\n",
        "    def __init__(self):\n",
        "        self.head = None\n",
        "\n",
        "    def push_back(self, newElement):\n",
        "        newNode = Node(newElement)\n",
        "        if self.head == None:\n",
        "            self.head = newNode\n",
        "            newNode.next = self.head\n",
        "        else:\n",
        "            temp = self.head\n",
        "            while temp.next != self.head:\n",
        "                temp = temp.next\n",
        "            temp.next = newNode\n",
        "            newNode.next = self.head\n",
        "\n",
        "    def Print_from(self, position):     \n",
        "\n",
        "        temp = self.head\n",
        "\n",
        "        if position < 1:\n",
        "            print(\"Position should be >= 1.\")\n",
        "    \n",
        "        elif position == 1:\n",
        "            print(temp.data, end=\" \")\n",
        "            while(temp.next != self.head):\n",
        "                print(temp.next.data, end=\" \")\n",
        "                temp = temp.next\n",
        "\n",
        "        else:\n",
        "            for i in range(1, position):\n",
        "                temp = temp.next\n",
        "            self.head = temp\n",
        "            print(temp.data, end=\" \")\n",
        "            while temp.next != self.head:\n",
        "                print(temp.next.data, end=\" \")\n",
        "                temp = temp.next\n",
        "\n",
        " \n",
        "MyCList = CLinkedList()\n",
        "\n",
        "a = [int(x) for x in input().split()]\n",
        "for i in a:\n",
        "    MyCList.push_back(i)\n",
        "\n",
        "l = int(input())\n",
        "MyCList.Print_from(l)"
      ],
      "execution_count": 9,
      "outputs": [
        {
          "output_type": "stream",
          "text": [
            "30 20 10 5 2\n",
            "2\n",
            "20 10 5 2 30 "
          ],
          "name": "stdout"
        }
      ]
    }
  ]
}