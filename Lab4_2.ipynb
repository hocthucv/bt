{
  "nbformat": 4,
  "nbformat_minor": 0,
  "metadata": {
    "colab": {
      "name": "Lab4.2.ipynb",
      "provenance": [],
      "collapsed_sections": [],
      "authorship_tag": "ABX9TyPDLy4heC/Kw5MrBfYceDfg",
      "include_colab_link": true
    },
    "kernelspec": {
      "name": "python3",
      "display_name": "Python 3"
    },
    "language_info": {
      "name": "python"
    }
  },
  "cells": [
    {
      "cell_type": "markdown",
      "metadata": {
        "id": "view-in-github",
        "colab_type": "text"
      },
      "source": [
        "<a href=\"https://colab.research.google.com/github/hocthucv/bt/blob/main/Lab4_2.ipynb\" target=\"_parent\"><img src=\"https://colab.research.google.com/assets/colab-badge.svg\" alt=\"Open In Colab\"/></a>"
      ]
    },
    {
      "cell_type": "code",
      "metadata": {
        "colab": {
          "base_uri": "https://localhost:8080/"
        },
        "id": "E7cG3Ke8Ptyp",
        "outputId": "fe8ae2e1-c4b6-4e94-9d11-efd53502d181"
      },
      "source": [
        "#Lab 4.2\n",
        "W,n = map(int, input().split())\n",
        "S = list(map(int, input().split()))\n",
        "dp = [0] * (n + 1)\n",
        "dp[0] = 0\n",
        "a = []\n",
        "for i in range(1, n + 1):\n",
        "    m = 0 if not [x for x in S if (x <= W - dp[i-1] and x not in a)] else max([x for x in S if (x <= W - dp[i-1] and x not in a)])\n",
        "    dp[i] = dp[i-1] + m\n",
        "    a.append((max([x for x in S if x <= W - dp[i-1]])))\n",
        "\n",
        "dp[]"
      ],
      "execution_count": 21,
      "outputs": [
        {
          "output_type": "stream",
          "text": [
            "10 3\n",
            "1 4 8\n"
          ],
          "name": "stdout"
        },
        {
          "output_type": "execute_result",
          "data": {
            "text/plain": [
              "9"
            ]
          },
          "metadata": {
            "tags": []
          },
          "execution_count": 21
        }
      ]
    }
  ]
}