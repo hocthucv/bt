{
  "nbformat": 4,
  "nbformat_minor": 0,
  "metadata": {
    "colab": {
      "name": "Lab 11.1.ipynb",
      "provenance": [],
      "collapsed_sections": []
    },
    "kernelspec": {
      "name": "python3",
      "display_name": "Python 3"
    }
  },
  "cells": [
    {
      "cell_type": "markdown",
      "metadata": {
        "id": "vU9tZgjJPyhg"
      },
      "source": [
        "Đề bài: Hãy hoàn thành các khai báo trong phần init của class Student và phương thức\r\n",
        "print_diemtk để có thể in ra được điểm tổng kết của một bạn học sinh từ input gồm tên của\r\n",
        "sinh viên và bảng điểm thành phần của 3 môn Toán, Lý, Hóa.\r\n",
        "\r\n"
      ]
    },
    {
      "cell_type": "code",
      "metadata": {
        "colab": {
          "base_uri": "https://localhost:8080/"
        },
        "id": "zHsVmq7uOE2I",
        "outputId": "0091d427-dd79-470b-af95-0a53f4165498"
      },
      "source": [
        "class Student():\r\n",
        "  def __init__(self,name,diem):\r\n",
        "    self.name = name\r\n",
        "    self.diemtk = diem\r\n",
        "  def print_diemtk(self):\r\n",
        "    self.diemtb = sum([float(i) for i in self.diemtk.strip().split()])/3\r\n",
        "    print('The average mark of {} is {}'.format(self.name,self.diemtb))\r\n",
        "\r\n",
        "Student(input(),input()).print_diemtk()"
      ],
      "execution_count": 1,
      "outputs": [
        {
          "output_type": "stream",
          "text": [
            "thuc\n",
            "3 2 1\n",
            "The average mark of thuc is 2.0\n"
          ],
          "name": "stdout"
        }
      ]
    }
  ]
}