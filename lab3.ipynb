{
  "nbformat": 4,
  "nbformat_minor": 0,
  "metadata": {
    "colab": {
      "name": "lab3.ipynb",
      "provenance": [],
      "collapsed_sections": []
    },
    "kernelspec": {
      "name": "python3",
      "display_name": "Python 3"
    }
  },
  "cells": [
    {
      "cell_type": "markdown",
      "metadata": {
        "id": "5MuP2kqqJeEi"
      },
      "source": [
        "Cho số nguyên age chỉ tuổi của một con mèo được nhập vào từ bàn phím. Bạn hãy viết chương trình để kiểm tra xem con mèo của bạn là già hay còn trẻ. Nếu tuổi của con mèo dưới 5 (age <5), thì hiển thị ra màn hình dòng chữ Your cat is young, ngược lại nếu tuổi của con mèo lớn hơn hoặc bằng 5 tuổi thì hiển thị ra Your cat is old."
      ]
    },
    {
      "cell_type": "code",
      "metadata": {
        "id": "EZOpTKnCJYh0"
      },
      "source": [
        "age = int(input())\r\n",
        "if age < 5:\r\n",
        "    print(\"Your cat is young\")\r\n",
        "else :\r\n",
        "    print(\"Your cat is old\")"
      ],
      "execution_count": null,
      "outputs": []
    },
    {
      "cell_type": "markdown",
      "metadata": {
        "id": "gSxRTVeEJg0r"
      },
      "source": [
        "Cho số nguyên temperature chỉ nhiệt độ được nhập từ bàn phím, bạn hãy viết chương trình in ra màn hình theo các yêu cầu như sau:\r\n",
        "\r\n",
        "Nếu temperature >= 100, in ra dòng chữ Stay at home and enjoy a good movie trên màn hình.\r\n",
        "Nếu temperature >= 92, in ra dòng chữ Stay at home trên màn hình.\r\n",
        "Nếu temperature = 75, in ra dòng chữ Go outside and enjoy the weather trên màn hình.\r\n",
        "Nếu temperature < 0, in ra dòng chữ It's cool outside trên màn hình.\r\n",
        "Ngoài các ràng buộc như trên thì hiển thị Let's go to school."
      ]
    },
    {
      "cell_type": "code",
      "metadata": {
        "id": "Sr5TrpQsJlWn"
      },
      "source": [
        "temperature = int(input())\r\n",
        "\r\n",
        "if temperature >= 100:\r\n",
        "    print(\"Stay at home and enjoy a good movie\")\r\n",
        "elif temperature >= 92:\r\n",
        "    print(\"Stay at home\")\r\n",
        "elif temperature == 75:\r\n",
        "    print(\"Go outside and enjoy the weather\")\r\n",
        "elif temperature <= 0:\r\n",
        "    print(\"It's cool outside\")\r\n",
        "else:\r\n",
        "    print(\"Let's go to school\")"
      ],
      "execution_count": null,
      "outputs": []
    },
    {
      "cell_type": "markdown",
      "metadata": {
        "id": "fDV2DrEdJnE_"
      },
      "source": [
        "Cho trước 3 số nguyên x, y, z được từ bàn phím. Bạn hãy viết chương trình hiển thị ra màn hình theo yêu cầu sau:\r\n",
        "\r\n",
        "Nếu x là số chẵn, kiểm tra xem y có lớn hơn hoặc bằng 20 hay không. Nếu y >= 20, in ra dòng chữ y is greater than or equal to 20; ngược lại, in ra dòng chữ y is less than 20.\r\n",
        "Nếu x là số lẻ, kiểm tra xem z có lớn hơn hoặc bằng 30 hay không. Nếu z >= 30, in ra dòng chữ z is greater than or equal to 30; ngược lại, in ra dòng chữ z is less than 30."
      ]
    },
    {
      "cell_type": "code",
      "metadata": {
        "id": "qiBHw3uKJrDR"
      },
      "source": [
        "x = int(input())\r\n",
        "y = int(input())\r\n",
        "z = int(input())\r\n",
        "\r\n",
        "if x % 2 == 0:\r\n",
        "    if y >= 20:\r\n",
        "        print(\"y is greater than or equal to 20\")\r\n",
        "    else:\r\n",
        "        print(\"y is less than 20\")\r\n",
        "else:\r\n",
        "    if z >= 30:\r\n",
        "        print(\"z is greater than or equal to 30\")\r\n",
        "    else:\r\n",
        "        print(\"z is less than 30\")"
      ],
      "execution_count": null,
      "outputs": []
    },
    {
      "cell_type": "markdown",
      "metadata": {
        "id": "0toCooFcJssG"
      },
      "source": [
        "Viết chương trình Python tính giá trị trung bình (avg) của ba biến a, b, c nhập từ bàn phím (a, b, c là ba số tự nhiên) với điều kiện như sau:\r\n",
        "\r\n",
        "Nếu avg > a và avg > b thì hiển thị The average value is greater than both a and b\r\n",
        "Nếu avg > a và avg > c thì hiển thị The average value is greater than both a and c\r\n",
        "Nếu avg > b và avg > c thì hiển thị The average value is greater than both b and c\r\n",
        "Nếu avg chỉ lớn hơn a thì hiển thị The average value is greater than a\r\n",
        "Nếu avg chỉ lớn hơn b thì hiển thị The average value is greater than b\r\n",
        "Nếu avg chỉ lớn hơn c thì hiển thị The average value is greater than c"
      ]
    },
    {
      "cell_type": "code",
      "metadata": {
        "id": "TkaOUrnqJwqZ"
      },
      "source": [
        "a = int(input())\r\n",
        "b = int(input())\r\n",
        "c = int(input())\r\n",
        "avg = (a + b + c) / 3\r\n",
        "\r\n",
        "if avg > a and avg > b:\r\n",
        "    print(\"The average value is greater than both a and b\")\r\n",
        "elif avg > a and avg > c:\r\n",
        "    print(\"The average value is greater than both a and c\")\r\n",
        "elif avg > b and avg > c:\r\n",
        "    print(\"The average value is greater than both b and c\")\r\n",
        "elif avg > a:\r\n",
        "    print(\"The average value is greater than a\")\r\n",
        "elif avg > b:\r\n",
        "    print(\"The average value is greater than b\")\r\n",
        "elif avg > c:\r\n",
        "    print(\"The average value is greater than c\")"
      ],
      "execution_count": null,
      "outputs": []
    },
    {
      "cell_type": "markdown",
      "metadata": {
        "id": "K0rB1ERvJ1mR"
      },
      "source": [
        "Cho số nguyên age chỉ tuổi của vật nuôi được nhập từ bàn phím, bạn hãy hiển thị ra màn hình theo yêu cầu sau:\r\n",
        "\r\n",
        "Nếu age <= 0 thì hiển thị \"This can hardly be true\"\r\n",
        "Nếu age == 1 thì hiển thị \"About 1 human year\"\r\n",
        "Nếu age == 2 thì hiển thị \"About 2 human years\"\r\n",
        "Nếu age > 2 thì hiển thị \"Over 5 human years. \r\n",
        "Ví dụ nếu bạn nhập age = 3 thì hiển thị \"Over 5 human years\"\r\n",
        "\r\n",
        "Nếu bạn nhập age = 1 thì hiển thị \"About 1 human year\""
      ]
    },
    {
      "cell_type": "code",
      "metadata": {
        "id": "rbs2Md9SJ2Sx"
      },
      "source": [
        "age = int(input())\r\n",
        "\r\n",
        "if age <= 0:\r\n",
        "    print(\"This can hardly be true\")\r\n",
        "elif age == 1:\r\n",
        "    print(\"About 1 human year\")\r\n",
        "elif age == 2:\r\n",
        "    print(\"About 2 human years\")\r\n",
        "elif age > 2:\r\n",
        "    print(\"Over 5 human years\")"
      ],
      "execution_count": null,
      "outputs": []
    }
  ]
}