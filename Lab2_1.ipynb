{
  "nbformat": 4,
  "nbformat_minor": 0,
  "metadata": {
    "colab": {
      "name": "Lab2.1.ipynb",
      "provenance": [],
      "collapsed_sections": [],
      "authorship_tag": "ABX9TyPwyGhP5c9lKFi/TPJ228mN",
      "include_colab_link": true
    },
    "kernelspec": {
      "name": "python3",
      "display_name": "Python 3"
    },
    "language_info": {
      "name": "python"
    }
  },
  "cells": [
    {
      "cell_type": "markdown",
      "metadata": {
        "id": "view-in-github",
        "colab_type": "text"
      },
      "source": [
        "<a href=\"https://colab.research.google.com/github/hocthucv/bt/blob/main/Lab2_1.ipynb\" target=\"_parent\"><img src=\"https://colab.research.google.com/assets/colab-badge.svg\" alt=\"Open In Colab\"/></a>"
      ]
    },
    {
      "cell_type": "code",
      "metadata": {
        "id": "n17GUjbI1Rjm"
      },
      "source": [
        "#Lab2.1\n",
        "m = int(input())\n",
        "x = m //10\n",
        "y = (m % 10) // 5\n",
        "z = (m % 10) % 5\n",
        "\n",
        "print(x+y+z)"
      ],
      "execution_count": null,
      "outputs": []
    }
  ]
}