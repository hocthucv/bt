{
  "nbformat": 4,
  "nbformat_minor": 0,
  "metadata": {
    "colab": {
      "name": "Untitled5.ipynb",
      "provenance": [],
      "authorship_tag": "ABX9TyMOi5dRVuYKAGH13/Zz3SHU",
      "include_colab_link": true
    },
    "kernelspec": {
      "name": "python3",
      "display_name": "Python 3"
    }
  },
  "cells": [
    {
      "cell_type": "markdown",
      "metadata": {
        "id": "view-in-github",
        "colab_type": "text"
      },
      "source": [
        "<a href=\"https://colab.research.google.com/github/hocthucv/bt/blob/main/bt-chap4.ipynb\" target=\"_parent\"><img src=\"https://colab.research.google.com/assets/colab-badge.svg\" alt=\"Open In Colab\"/></a>"
      ]
    },
    {
      "cell_type": "code",
      "metadata": {
        "id": "hzAcnFzhy9iY",
        "outputId": "c0e3db0b-156c-406c-cb14-0fadcc31c881",
        "colab": {
          "base_uri": "https://localhost:8080/",
          "height": 102
        }
      },
      "source": [
        "import math\n",
        "a=input(\"a=\")\n",
        "b=input(\"b=\")\n",
        "c=input(\"c=\")\n",
        "a=float(a)\n",
        "b=float(b)\n",
        "c=float(c)\n",
        "delta=b*b-4*a*c\n",
        "if a==0:\n",
        "  print(\"pt có nghiệm x=\",-c/b)\n",
        "else:\n",
        "  if delta<0:\n",
        "    print(\"ptvn\")\n",
        "  else:\n",
        "    print(\"pt có nghiệm x1=\",(-b+math.sqrt(delta))/(2*a),\"và x2=\",(-b-math.sqrt(delta))/(2*a))\n",
        "print(\"completed\")\n"
      ],
      "execution_count": 21,
      "outputs": [
        {
          "output_type": "stream",
          "text": [
            "a=1\n",
            "b=2\n",
            "c=1\n",
            "pt có nghiệm x1= -1.0 và x2= -1.0\n",
            "completed\n"
          ],
          "name": "stdout"
        }
      ]
    }
  ]
}