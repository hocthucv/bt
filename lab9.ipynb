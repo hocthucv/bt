{
  "nbformat": 4,
  "nbformat_minor": 0,
  "metadata": {
    "colab": {
      "name": "lab9.ipynb",
      "provenance": [],
      "collapsed_sections": []
    },
    "kernelspec": {
      "name": "python3",
      "display_name": "Python 3"
    }
  },
  "cells": [
    {
      "cell_type": "markdown",
      "metadata": {
        "id": "i0_WMWO-RD2l"
      },
      "source": [
        "Cho trước list res là list chứa các phần tử integer được nhập từ bàn phím. Viết chương trình Python để tìm ra các phần tử chẵn trong list đó. Kế tiếp, in kết quả là một list các số chẵn ra màn hình."
      ]
    },
    {
      "cell_type": "code",
      "metadata": {
        "id": "qlpgLR0nRB5S"
      },
      "source": [
        "#Initial list\r\n",
        "res = []\r\n",
        "\r\n",
        "# Input lengths\r\n",
        "lengths = int(input())\r\n",
        "\r\n",
        "# Add element\r\n",
        "for i in range(lengths):\r\n",
        "    # Input elements\r\n",
        "    n = int(input())\r\n",
        "    res.append(n)\r\n",
        "\r\n",
        "def evenNum(res):\r\n",
        "  return [num for num in res if num % 2 == 0]\r\n",
        "print(evenNum(res))"
      ],
      "execution_count": null,
      "outputs": []
    },
    {
      "cell_type": "markdown",
      "metadata": {
        "id": "tC_OFctzRHg0"
      },
      "source": [
        "Viết chương trình Python để tính a mũ b với a, b là hai số tự nhiên được nhập từ bàn phím. Sau đó, in kết quả ra màn hình"
      ]
    },
    {
      "cell_type": "code",
      "metadata": {
        "id": "fTr5mrU5RLRV"
      },
      "source": [
        "a = int(input())\r\n",
        "b = int(input())\r\n",
        "\r\n",
        "def power(a, b):\r\n",
        "    return a**b\r\n",
        "\r\n",
        "print(power(a, b))"
      ],
      "execution_count": null,
      "outputs": []
    },
    {
      "cell_type": "markdown",
      "metadata": {
        "id": "u-BKRk0JRQKW"
      },
      "source": [
        "Viết chương trình Python để tìm ước chung lớn nhất của hai số a, b với a, b là hai số tự nhiên được nhập từ bàn phím. Sau đó, in kết quả ra màn hình"
      ]
    },
    {
      "cell_type": "code",
      "metadata": {
        "id": "ABw3gmSaRRUb"
      },
      "source": [
        "a = int(input())\r\n",
        "b = int(input())\r\n",
        "\r\n",
        "def gcd(a,b):\r\n",
        "    if (b == 0):\r\n",
        "        return a\r\n",
        "    return gcd(b, a % b)\r\n",
        "\r\n",
        "print(gcd(a,b))"
      ],
      "execution_count": null,
      "outputs": []
    },
    {
      "cell_type": "markdown",
      "metadata": {
        "id": "QxVYKHBVRVSg"
      },
      "source": [
        "Cho 3 số nguyên a, b và c là 3 cạnh của một tam giác. Viết chương trình để kiểm tra xem tam giác đó là tam giác đều, tam giác cân hay tam giác thường và in ra màn hình kết quả  \"Equilateral triangle\", \"Isosceles triangle\" hoặc \"Scalene triangle\" tương ứng."
      ]
    },
    {
      "cell_type": "code",
      "metadata": {
        "id": "sWfr3dUTRWB5"
      },
      "source": [
        "a = int(input())\r\n",
        "b = int(input())\r\n",
        "c = int(input())\r\n",
        "\r\n",
        "if a == b and a == c:\r\n",
        "    print(\"Equilateral triangle\")\r\n",
        "elif a == b or a == c or b == c:\r\n",
        "    print(\"Isosceles triangle\")\r\n",
        "elif a+b > c and b+c > a and a+c > b:\r\n",
        "    print(\"Scalene triangle\")"
      ],
      "execution_count": null,
      "outputs": []
    }
  ]
}