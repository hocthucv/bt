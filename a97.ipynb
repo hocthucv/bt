{
  "nbformat": 4,
  "nbformat_minor": 0,
  "metadata": {
    "colab": {
      "name": "Untitled30.ipynb",
      "provenance": [],
      "authorship_tag": "ABX9TyMaLxkxnL8qw3b5zGPkpyFR",
      "include_colab_link": true
    },
    "kernelspec": {
      "name": "python3",
      "display_name": "Python 3"
    }
  },
  "cells": [
    {
      "cell_type": "markdown",
      "metadata": {
        "id": "view-in-github",
        "colab_type": "text"
      },
      "source": [
        "<a href=\"https://colab.research.google.com/github/hocthucv/bt/blob/main/a97.ipynb\" target=\"_parent\"><img src=\"https://colab.research.google.com/assets/colab-badge.svg\" alt=\"Open In Colab\"/></a>"
      ]
    },
    {
      "cell_type": "markdown",
      "metadata": {
        "id": "88d8ZMnq3et4"
      },
      "source": [
        "cost(p, d, e).\r\n",
        "Trong đó:\r\n",
        "- p: Giá 1 lít xăng.\r\n",
        "- d: Khoảng cách của chuyến đi (km).\r\n",
        "- e: Mức tiêu thụ của xe theo L (lít)/100km. (Ví dụ: 3/100). \r\n",
        "Hàm cost trả về tiền xăng đi với khoảng cách d(km), giá xăng trên 1 lít d và mức tiêu thụ của xe e. Hãy tính giá di chuyển với giá xăng 22000 một lít, khoảng cách chuyến đi 50 km và mức tiêu thụ của xe 10l/100km"
      ]
    },
    {
      "cell_type": "code",
      "metadata": {
        "colab": {
          "base_uri": "https://localhost:8080/"
        },
        "id": "O9NlEVgl3iM1",
        "outputId": "1ac1ada2-06b0-4924-fbe6-5d17fede956d"
      },
      "source": [
        "def cost(p,d,e):\r\n",
        "  return p * d/100 * e\r\n",
        "cost(22000,50,10)"
      ],
      "execution_count": 28,
      "outputs": [
        {
          "output_type": "execute_result",
          "data": {
            "text/plain": [
              "110000.0"
            ]
          },
          "metadata": {
            "tags": []
          },
          "execution_count": 28
        }
      ]
    }
  ]
}