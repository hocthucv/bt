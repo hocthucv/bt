{
  "nbformat": 4,
  "nbformat_minor": 0,
  "metadata": {
    "colab": {
      "name": "Bản sao của chapter2-exercise.ipynb",
      "provenance": [],
      "include_colab_link": true
    },
    "kernelspec": {
      "name": "python3",
      "display_name": "Python 3"
    }
  },
  "cells": [
    {
      "cell_type": "markdown",
      "metadata": {
        "id": "view-in-github",
        "colab_type": "text"
      },
      "source": [
        "<a href=\"https://colab.research.google.com/github/hocthucv/bt/blob/main/B%E1%BA%A3n_sao_c%E1%BB%A7a_chapter2_exercise.ipynb\" target=\"_parent\"><img src=\"https://colab.research.google.com/assets/colab-badge.svg\" alt=\"Open In Colab\"/></a>"
      ]
    },
    {
      "cell_type": "markdown",
      "metadata": {
        "id": "sMJ5KoiBMARd"
      },
      "source": [
        "**BÀI TẬP LẬP TRÌNH CHƯƠNG 2**\n",
        "\n",
        "Bài 1: Lập trình nhập vào từ bàn phím 2 số nguyên và tính:\n",
        "\n",
        "\n",
        "1.   Tổng của 2 số\n",
        "2.   Tích của 2 số\n",
        "3.   Hiệu của 2 số\n",
        "4.   Phép chia lấy phần dư của 2 số\n",
        "5.   Phép chia lấy phần nguyên của 2 số\n",
        "\n",
        "Kết quả xuất ra màn hình\n",
        "\n"
      ]
    },
    {
      "cell_type": "code",
      "metadata": {
        "id": "Os5z0wPpL1Nk",
        "outputId": "6be4500a-5e6d-4172-f3b7-497a64dbf6f0",
        "colab": {
          "base_uri": "https://localhost:8080/",
          "height": 136
        }
      },
      "source": [
        "a = input(\"a = \")\n",
        "b = input(\"b = \")\n",
        "a = int(a)\n",
        "b = int(b)\n",
        "c = a + b\n",
        "print(\"a + b =\", c)\n",
        "d = a * b\n",
        "print(\"a * b =\", d)\n",
        "e = a - b\n",
        "print(\"a - b =\", e)\n",
        "f = a % b\n",
        "print(\"a % b =\", f)\n",
        "g = a // b\n",
        "print(\"a // b =\", g)\n",
        "\n",
        "\n",
        "\n"
      ],
      "execution_count": null,
      "outputs": [
        {
          "output_type": "stream",
          "text": [
            "a = 452\n",
            "b = 271\n",
            "a + b = 723\n",
            "a * b = 122492\n",
            "a - b = 181\n",
            "a % b = 181\n",
            "a // b = 1\n"
          ],
          "name": "stdout"
        }
      ]
    },
    {
      "cell_type": "markdown",
      "metadata": {
        "id": "j2suJwVPM5Zk"
      },
      "source": [
        "Bài 2: Lập trình nhập vào từ bàn phím 2 số thực và tính:\n",
        "\n",
        "1.   Tổng của 2 số\n",
        "2.   Tích của 2 số\n",
        "3.   Hiệu của 2 số\n",
        "4.   Thương của 2 số\n",
        "\n",
        "Kết quả xuất ra màn hình"
      ]
    },
    {
      "cell_type": "code",
      "metadata": {
        "id": "fmlD-ggRMh9q",
        "outputId": "7a85d0c5-0b78-4081-b904-155a397d2503",
        "colab": {
          "base_uri": "https://localhost:8080/",
          "height": 119
        }
      },
      "source": [
        "a = input(\"a = \")\n",
        "b = input(\"b = \")\n",
        "a = float(a)\n",
        "b = float(b)\n",
        "c = a + b\n",
        "print(\"a + b =\", c)\n",
        "d = a * b\n",
        "print(\"a * b =\", d)\n",
        "e = a - b\n",
        "print(\"a - b =\", e)\n",
        "f = a / b\n",
        "print(\"a / b =\", f)"
      ],
      "execution_count": null,
      "outputs": [
        {
          "output_type": "stream",
          "text": [
            "a = 17.2454\n",
            "b = 18.215\n",
            "a + b = 35.4604\n",
            "a * b = 314.124961\n",
            "a - b = -0.9695999999999998\n",
            "a / b = 0.9467691463079879\n"
          ],
          "name": "stdout"
        }
      ]
    },
    {
      "cell_type": "markdown",
      "metadata": {
        "id": "sOCly6AvNUAN"
      },
      "source": [
        "Bài 3: (Sử dụng các hàm toán học) Nhập một số từ bàn phím và tính:\n",
        "\n",
        "\n",
        "\n",
        "1.   Trị tuyệt đối\n",
        "2.   Lấy phần nguyên của số\n",
        "3.   Chuyển đổi thành số thực\n",
        "4.   (nhập thêm 1 số từ bàn phím) và tính lũy thừa $ x^y $\n",
        "5.   Tính căn bậc hai\n",
        "\n",
        "Kết quả xuất ra màn hình\n",
        "\n"
      ]
    },
    {
      "cell_type": "code",
      "metadata": {
        "id": "XNKN4yAoOUAa",
        "outputId": "c622fc08-a337-4683-f89e-fa49695cff6c",
        "colab": {
          "base_uri": "https://localhost:8080/",
          "height": 136
        }
      },
      "source": [
        "a = input(\"a = \")\n",
        "a = float(a)\n",
        "print(\"abs(a) =\", abs(a))\n",
        "print(\"int(a) =\", int(a))\n",
        "print(\"float(a) =\", float(a))\n",
        "b = input(\"b = \")\n",
        "b = float(b)\n",
        "print(\"a^b =\", a**b)\n",
        "import math\n",
        "print(\"sqrt(a) =\", math.sqrt(a))"
      ],
      "execution_count": null,
      "outputs": [
        {
          "output_type": "stream",
          "text": [
            "a = 25\n",
            "abs(a) = 25.0\n",
            "int(a) = 25\n",
            "float(a) = 25.0\n",
            "b = 2\n",
            "a^b = 625.0\n",
            "sqrt(a) = 5.0\n"
          ],
          "name": "stdout"
        }
      ]
    },
    {
      "cell_type": "markdown",
      "metadata": {
        "id": "79zQGrU5Od-d"
      },
      "source": [
        "Bài 4: Nhập 2 số từ bàn phím và thực hiện các phép so sánh sau giữa 2 số:\n",
        "\n",
        "\n",
        "\n",
        "1.   $ \\geq $\n",
        "2.   $ \\leq $\n",
        "3.   $ > $\n",
        "4.   $ < $\n",
        "5.   $ \\neq $\n",
        "\n",
        "Kết quả xuất ra màn hình\n"
      ]
    },
    {
      "cell_type": "code",
      "metadata": {
        "id": "qePknJEaP1tL",
        "outputId": "3ae76048-003b-4522-ede5-ff9896a646bc",
        "colab": {
          "base_uri": "https://localhost:8080/",
          "height": 136
        }
      },
      "source": [
        "a = input(\"a = \")\n",
        "b = input(\"b = \")\n",
        "a = float(a)\n",
        "b = float(b)\n",
        "print(\"a >= b =\", a>=b)\n",
        "print(\"a <= b =\", a<=b)\n",
        "print(\"a > b =\", a>b)\n",
        "print(\"a < b =\", a<b)\n",
        "print(\"a != b =\", a!=b)"
      ],
      "execution_count": null,
      "outputs": [
        {
          "output_type": "stream",
          "text": [
            "a = 15\n",
            "b = 18\n",
            "a >= b = False\n",
            "a <= b = True\n",
            "a > b = False\n",
            "a < b = True\n",
            "a != b = True\n"
          ],
          "name": "stdout"
        }
      ]
    },
    {
      "cell_type": "markdown",
      "metadata": {
        "id": "90lU8sTXP4hu"
      },
      "source": [
        "Bài 5: Nhập 1 chuỗi ký tự từ bàn phím:\n",
        "\n",
        "\n",
        "\n",
        "1.   Chuyển thành chuỗi in hoa\n",
        "2.   Chuyển thành chuỗi in thường\n",
        "\n",
        "Kết quả xuất ra màn hình\n",
        "\n",
        "\n",
        "\n"
      ]
    },
    {
      "cell_type": "code",
      "metadata": {
        "id": "PWIIssukQXja",
        "outputId": "ebf10247-e244-46c5-b7a7-30739c787c2c",
        "colab": {
          "base_uri": "https://localhost:8080/",
          "height": 68
        }
      },
      "source": [
        "string = input(\"tring: \")\n",
        "print(string.upper())\n",
        "print(string.lower())\n"
      ],
      "execution_count": null,
      "outputs": [
        {
          "output_type": "stream",
          "text": [
            "tring: Vo hoc\n",
            "VO HOC\n",
            "vo hoc\n"
          ],
          "name": "stdout"
        }
      ]
    },
    {
      "cell_type": "markdown",
      "metadata": {
        "id": "gv9n9-gMQZ7O"
      },
      "source": [
        "Bài 6: Xuất ra màn hình 1 chuỗi ký từ nằm trên nhiều hàng (có thể là 1 bài thơ tùy ý bạn lựa chọn)"
      ]
    },
    {
      "cell_type": "code",
      "metadata": {
        "id": "ZcjBCkQOQoS0",
        "outputId": "61ddde68-7668-47b6-e937-e09bdabf9454",
        "colab": {
          "base_uri": "https://localhost:8080/",
          "height": 85
        }
      },
      "source": [
        "print('''Này gió ơi cho ta nhờ chút việc\n",
        "Việc nhỏ thôi nhưng là cả tấm lòng\n",
        "Khi gió về nép bên cạnh người ấy\n",
        "Gió thì thầm ta nhớ ấy biết bao''')"
      ],
      "execution_count": null,
      "outputs": [
        {
          "output_type": "stream",
          "text": [
            "Này gió ơi cho ta nhờ chút việc\n",
            "Việc nhỏ thôi nhưng là cả tấm lòng\n",
            "Khi gió về nép bên cạnh người ấy\n",
            "Gió thì thầm ta nhớ ấy biết bao\n"
          ],
          "name": "stdout"
        }
      ]
    }
  ]
}