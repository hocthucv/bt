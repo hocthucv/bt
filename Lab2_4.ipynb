{
  "nbformat": 4,
  "nbformat_minor": 0,
  "metadata": {
    "colab": {
      "name": "Lab2.4.ipynb",
      "provenance": [],
      "collapsed_sections": [],
      "authorship_tag": "ABX9TyN23EpNYtrPXyMN3MSI130y",
      "include_colab_link": true
    },
    "kernelspec": {
      "name": "python3",
      "display_name": "Python 3"
    },
    "language_info": {
      "name": "python"
    }
  },
  "cells": [
    {
      "cell_type": "markdown",
      "metadata": {
        "id": "view-in-github",
        "colab_type": "text"
      },
      "source": [
        "<a href=\"https://colab.research.google.com/github/hocthucv/bt/blob/main/Lab2_4.ipynb\" target=\"_parent\"><img src=\"https://colab.research.google.com/assets/colab-badge.svg\" alt=\"Open In Colab\"/></a>"
      ]
    },
    {
      "cell_type": "code",
      "metadata": {
        "colab": {
          "base_uri": "https://localhost:8080/"
        },
        "id": "NU9W-lN9nLST",
        "outputId": "4c1543a1-cf56-422d-ef2c-fd639b007fd9"
      },
      "source": [
        "#Lab2.4\n",
        "n = int(input())\n",
        "segments=[]\n",
        "\n",
        "for i in range(0,n):\n",
        "    segments.extend([input().strip().split()])\n",
        "    segments[i]=[int(x) for x in segments[i]]\n",
        "segments.sort(key=lambda x: x[1])\n",
        "points=[segments[0][1]]\n",
        "for i in range(0,n):\n",
        "    if points[len(points)-1]<segments[i][0]:\n",
        "        points.extend([segments[i][1]])\n",
        "print(len(points))\n",
        "print(\" \".join(str(x) for x in points))"
      ],
      "execution_count": 16,
      "outputs": [
        {
          "output_type": "stream",
          "text": [
            "4\n",
            "4 7\n",
            "1 3\n",
            "2 5\n",
            "5 6\n",
            "2\n",
            "3 6\n"
          ],
          "name": "stdout"
        }
      ]
    }
  ]
}