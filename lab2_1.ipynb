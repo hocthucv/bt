{
  "nbformat": 4,
  "nbformat_minor": 0,
  "metadata": {
    "colab": {
      "name": "lab2.1.ipynb",
      "provenance": [],
      "collapsed_sections": []
    },
    "kernelspec": {
      "name": "python3",
      "display_name": "Python 3"
    }
  },
  "cells": [
    {
      "cell_type": "markdown",
      "metadata": {
        "id": "nhqEVMRteYbJ"
      },
      "source": [
        "Bạn hãy chạy chương trình mẫu đã có sẵn trên máy của mình để thấy được cách mà biến được khởi tạo, cũng như giá trị của biến khi được hiển thị ra màn hình."
      ]
    },
    {
      "cell_type": "code",
      "metadata": {
        "id": "EwiVrZ9BeHmq"
      },
      "source": [
        "# Initialization an integer variable name num_integer\r\n",
        "num_integer = 1000\r\n",
        "# Initialization a float variable name num_float\r\n",
        "num_float = 3.125\r\n",
        "# Initialization a string variable name string_var\r\n",
        "string_var = 'Codelearn.io'\r\n",
        "# Initialization a boolean variable name boolean_var\r\n",
        "boolean_var = True\r\n",
        "\r\n",
        "#Print value of each variable\r\n",
        "print(num_integer)\r\n",
        "print(num_float)\r\n",
        "print(string_var)\r\n",
        "print(boolean_var)"
      ],
      "execution_count": null,
      "outputs": []
    },
    {
      "cell_type": "markdown",
      "metadata": {
        "id": "IOy8Mhcdejd4"
      },
      "source": [
        "Bạn hãy điền code vào dấu ... để chương trình hiển thị ra màn hình thông tin sau:\r\n",
        "\r\n",
        "5000\r\n",
        "1.2345\r\n",
        "Codelearn.io\r\n",
        "False​"
      ]
    },
    {
      "cell_type": "code",
      "metadata": {
        "id": "clURiOqbekYg"
      },
      "source": [
        "print(5000)\r\n",
        "print(1.2345)\r\n",
        "print(\"Codelearn.io\")\r\n",
        "print(2>3)"
      ],
      "execution_count": null,
      "outputs": []
    },
    {
      "cell_type": "markdown",
      "metadata": {
        "id": "4d_D4-TienuI"
      },
      "source": [
        "Bạn hãy viết chương tạo ra biến name = \"Codelearn\" và thực hiện hiển thị ra màn hình dòng chữ:\r\n",
        "\r\n",
        "Hello Codelearn"
      ]
    },
    {
      "cell_type": "code",
      "metadata": {
        "id": "r3MABJygerrI"
      },
      "source": [
        "name = \"Codelearn\"\r\n",
        "print('Hello ' + name)"
      ],
      "execution_count": null,
      "outputs": []
    },
    {
      "cell_type": "markdown",
      "metadata": {
        "id": "5M9zPxCGetgx"
      },
      "source": [
        "Bạn hãy viết chương trình tạo ra biến name = \"Codelearn\", date_of_birth = 2019 và hiển thị ra màn hình dòng chữ:\r\n",
        "\r\n",
        "Name: Codelearn\r\n",
        "Date of birth: 2019"
      ]
    },
    {
      "cell_type": "code",
      "metadata": {
        "id": "FpJV98ZNexLv"
      },
      "source": [
        "name = \"Codelearn\"\r\n",
        "date_of_birth = 2019\r\n",
        "print(\"Name: \" + name)\r\n",
        "print(\"Date of birth: \" + str(date_of_birth))"
      ],
      "execution_count": null,
      "outputs": []
    },
    {
      "cell_type": "markdown",
      "metadata": {
        "id": "E-AM-OubezDk"
      },
      "source": [
        "Bạn hãy viết chương trình tạo ra biến a = 438, b = 636 và thực hiện hiển thị ra màn hình tổng, hiệu, tích thương của a và b giống như sau:\r\n",
        "\r\n",
        "a + b = {P1}\r\n",
        "a - b = {P2}\r\n",
        "a * b = {P3}\r\n",
        "a / b = {P4}"
      ]
    },
    {
      "cell_type": "code",
      "metadata": {
        "id": "dd1b4Aqve3KU"
      },
      "source": [
        "a = 438\r\n",
        "b = 636\r\n",
        "print(\"a + b = \" + str(a + b))\r\n",
        "print(\"a - b = \" + str(a - b))\r\n",
        "print(\"a * b = \" + str(a * b))\r\n",
        "print(\"a / b = \" + str(a / b))"
      ],
      "execution_count": null,
      "outputs": []
    },
    {
      "cell_type": "markdown",
      "metadata": {
        "id": "nrJe7C6Re5FJ"
      },
      "source": [
        "Cho trước biến length = 7.8 và biến width = 3.5, đây là 2 biến chỉ chiều dài và chiều rộng của hình chữ nhật. Bạn hãy viết chương trình hiển thị ra màn hình diện tích và chu vi của hình chữ nhật giống như sau:\r\n",
        "\r\n",
        "Area: {P1}\r\n",
        "Perimeter: {P2}"
      ]
    },
    {
      "cell_type": "code",
      "metadata": {
        "id": "YBVYEgFbe8rc"
      },
      "source": [
        "length = 7.8\r\n",
        "width = 3.5\r\n",
        "print(\"Area: \" + str(length * width))\r\n",
        "print(\"Perimeter: \" + str((length + width) * 2))"
      ],
      "execution_count": null,
      "outputs": []
    }
  ]
}