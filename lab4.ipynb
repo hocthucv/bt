{
  "nbformat": 4,
  "nbformat_minor": 0,
  "metadata": {
    "colab": {
      "name": "lab4.ipynb",
      "provenance": [],
      "collapsed_sections": []
    },
    "kernelspec": {
      "name": "python3",
      "display_name": "Python 3"
    }
  },
  "cells": [
    {
      "cell_type": "markdown",
      "metadata": {
        "id": "Xq6OKn2DKIMT"
      },
      "source": [
        "Bạn hãy viết hàm trả về tổng của các phần tử trong list các số nguyên được nhập vào từ bàn phím."
      ]
    },
    {
      "cell_type": "code",
      "metadata": {
        "id": "EBCk9CpoKAkE"
      },
      "source": [
        "def sum_of_list(lst):\r\n",
        "    a = 0\r\n",
        "    for i in lst:\r\n",
        "        a += i\r\n",
        "    return a\r\n",
        "\r\n",
        "lst = []\r\n",
        "n = int(input())\r\n",
        "for i in range(n):\r\n",
        "    lst.append(int(input()))\r\n",
        "print(sum_of_list(lst))"
      ],
      "execution_count": null,
      "outputs": []
    },
    {
      "cell_type": "markdown",
      "metadata": {
        "id": "vhPJSphdKLVN"
      },
      "source": [
        "Cho 3 số nguyên a, b, c được nhập vào từ bàn phím, bạn hãy viết hàm trả về số lớn nhất trong 3 số này và hiển thị kết quả ra màn hình."
      ]
    },
    {
      "cell_type": "code",
      "metadata": {
        "id": "r5frtncOKOdt"
      },
      "source": [
        "def max3(a, b, c):\r\n",
        "    if a > b and a > c:\r\n",
        "        return a\r\n",
        "    return b if b > c else c\r\n",
        "\r\n",
        "a = int(input())\r\n",
        "b = int(input())\r\n",
        "c = int(input())\r\n",
        "print(max3(a, b, c))"
      ],
      "execution_count": null,
      "outputs": []
    },
    {
      "cell_type": "markdown",
      "metadata": {
        "id": "RQ3dF1QdKiPp"
      },
      "source": [
        "Cho chuỗi s được nhập vào từ bàn phím, bạn hãy viết chương trình Python để đếm số các chữ cái in hoa và in thường trong chuỗi và in kết quả ra màn hình theo từng dòng như sau:\r\n",
        "\r\n",
        "Given string: {P1}\r\n",
        "Number of uppercase letters: {P2}\r\n",
        "Number of lowercase letters: {P3}"
      ]
    },
    {
      "cell_type": "code",
      "metadata": {
        "id": "rbEQsA5OKjBJ"
      },
      "source": [
        "def show(s):\r\n",
        "    count_upper = 0\r\n",
        "    count_lower = 0\r\n",
        "    for i in s:\r\n",
        "        if i.isupper():\r\n",
        "            count_upper += 1\r\n",
        "        if i.islower():\r\n",
        "            count_lower += 1\r\n",
        "\r\n",
        "    print(\"Given string:\", s)\r\n",
        "    print(\"Number of uppercase letters:\", count_upper)\r\n",
        "    print(\"Number of lowercase letters:\", count_lower)\r\n",
        "\r\n",
        "\r\n",
        "s = str(input())\r\n",
        "show(s)"
      ],
      "execution_count": null,
      "outputs": []
    },
    {
      "cell_type": "markdown",
      "metadata": {
        "id": "GzXXpUmwKlVd"
      },
      "source": [
        "Bạn hãy viết hàm nhận vào một list và trả về các số xuất hiện trong list đó (xem ví dụ để hiểu rõ hơn)."
      ]
    },
    {
      "cell_type": "code",
      "metadata": {
        "id": "aR3KXmYFKozn"
      },
      "source": [
        "def get_unique_values(lst):\r\n",
        "    answer = []\r\n",
        "    for v in lst:\r\n",
        "        if v not in answer:\r\n",
        "            answer.append(v)\r\n",
        "    return answer\r\n",
        "\r\n",
        "n = int(input())\r\n",
        "lst = []\r\n",
        "for i in range(n):\r\n",
        "    lst.append(int(input()))\r\n",
        "print(get_unique_values(lst))"
      ],
      "execution_count": null,
      "outputs": []
    },
    {
      "cell_type": "markdown",
      "metadata": {
        "id": "MQAWu3gXKrHP"
      },
      "source": [
        "Cho số tự nhiên n được nhập vào từ bàn phím, bạn hãy viết hàm kiểm tra xem n có phải là số nguyên tố không, nếu có trả về True, ngược lại trả về False.\r\n",
        "\r\n",
        "Số nguyên tố là các số tự nhiên mà chỉ có 2 ước là 1 và chính nó. Ví dụ: 2, 3, 5, 7, 11, 13, 17,... là các số nguyên tố."
      ]
    },
    {
      "cell_type": "code",
      "metadata": {
        "id": "wRtp_RoLKubl"
      },
      "source": [
        "def is_prime(n):\r\n",
        "    count = 0\r\n",
        "    for i in range(1, n + 1):\r\n",
        "        if n % i == 0:\r\n",
        "            count += 1\r\n",
        "    if count == 2:\r\n",
        "        return True\r\n",
        "    return False\r\n",
        "\r\n",
        "n = int(input())\r\n",
        "print(is_prime(n))"
      ],
      "execution_count": null,
      "outputs": []
    }
  ]
}