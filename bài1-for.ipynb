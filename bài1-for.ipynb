{
  "nbformat": 4,
  "nbformat_minor": 0,
  "metadata": {
    "colab": {
      "name": "Untitled7.ipynb",
      "provenance": [],
      "authorship_tag": "ABX9TyN7D97Cioh5pYFQATBwDvs+",
      "include_colab_link": true
    },
    "kernelspec": {
      "name": "python3",
      "display_name": "Python 3"
    }
  },
  "cells": [
    {
      "cell_type": "markdown",
      "metadata": {
        "id": "view-in-github",
        "colab_type": "text"
      },
      "source": [
        "<a href=\"https://colab.research.google.com/github/hocthucv/bt/blob/main/b%C3%A0i1-for.ipynb\" target=\"_parent\"><img src=\"https://colab.research.google.com/assets/colab-badge.svg\" alt=\"Open In Colab\"/></a>"
      ]
    },
    {
      "cell_type": "code",
      "metadata": {
        "id": "bqgxSy9HBH42",
        "outputId": "847f33ae-649a-4bf1-9e7b-d2525b6a1596",
        "colab": {
          "base_uri": "https://localhost:8080/",
          "height": 255
        }
      },
      "source": [
        "n=int(input(\"n=\"))\n",
        "for count in range (n):\n",
        "  print(\"Welcome to HUET\")\n",
        "print(\"Finished\")"
      ],
      "execution_count": 7,
      "outputs": [
        {
          "output_type": "stream",
          "text": [
            "n=12\n",
            "Welcome to HUET\n",
            "Welcome to HUET\n",
            "Welcome to HUET\n",
            "Welcome to HUET\n",
            "Welcome to HUET\n",
            "Welcome to HUET\n",
            "Welcome to HUET\n",
            "Welcome to HUET\n",
            "Welcome to HUET\n",
            "Welcome to HUET\n",
            "Welcome to HUET\n",
            "Welcome to HUET\n",
            "Finished\n"
          ],
          "name": "stdout"
        }
      ]
    }
  ]
}