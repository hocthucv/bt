{
  "nbformat": 4,
  "nbformat_minor": 0,
  "metadata": {
    "colab": {
      "name": "lab2_2.ipynb",
      "provenance": [],
      "collapsed_sections": []
    },
    "kernelspec": {
      "name": "python3",
      "display_name": "Python 3"
    }
  },
  "cells": [
    {
      "cell_type": "markdown",
      "metadata": {
        "id": "xYRfWyDvfWIu"
      },
      "source": [
        "Viết chương trình tính diện tích hình tam giác có chiều cao h và độ dài cạnh đáy a được nhập từ bàn phím (chiều cao và độ dài cạnh đáy của hình tam giác này là một số nguyên). Sau đó, in ra màn hình \"The area of triangle is {P}\" với {P} là diện tích của hình tam giác.\r\n",
        "\r\n",
        "Ví dụ nếu bạn nhập a = 10, h = 12 thì màn hình sẽ hiển thị ra:\r\n",
        "\r\n",
        "The area of triangle is 60\r\n",
        "Trước khi làm bài này bạn hãy đọc phần lý thuyết để biết thêm về các toán tử trong Python."
      ]
    },
    {
      "cell_type": "code",
      "metadata": {
        "id": "sZMkVL7RfNIK"
      },
      "source": [
        "a = int(input())\r\n",
        "h = int(input())\r\n",
        "\r\n",
        "area = 1/2 * a * h\r\n",
        "\r\n",
        "print(\"The area of triangle is\", area)"
      ],
      "execution_count": null,
      "outputs": []
    },
    {
      "cell_type": "markdown",
      "metadata": {
        "id": "ku7Tq5Gkfbso"
      },
      "source": [
        "Bạn hãy viết chương trình nhập từ bàn phím 2 số nguyên a và b. Sau đó hiển thị ra màn hình giá trị của phép toán a mũ b (ab).\r\n",
        "\r\n",
        "Ví dụ nếu bạn nhập a = 2, b = 3 thì màn hình sẽ hiển thị ra:\r\n",
        "\r\n",
        "8"
      ]
    },
    {
      "cell_type": "code",
      "metadata": {
        "id": "PhZDH9oWfcc7"
      },
      "source": [
        "a = int(input())\r\n",
        "b = int(input())\r\n",
        "print(a ** b)"
      ],
      "execution_count": null,
      "outputs": []
    },
    {
      "cell_type": "markdown",
      "metadata": {
        "id": "yoILuiLnfeFh"
      },
      "source": [
        "Viết chương trình nhập từ bàn phím hai số nguyên x và y. Sau đó, kiểm tra giá trị của x có lớn hơn giá trị y hay không. Nếu có (x lớn hơn y) thì in ra x > y: True, ngược lại in ra x > y: False.\r\n",
        "\r\n",
        "Ví dụ nếu bạn nhập x = 10, y = 5 thì màn hình sẽ hiển thị ra:\r\n",
        "\r\n",
        "x > y: True\r\n",
        "Nếu bạn nhập x = 2, y = 8 thì màn hình sẽ hiển thị ra:\r\n",
        "\r\n",
        "x > y: False"
      ]
    },
    {
      "cell_type": "code",
      "metadata": {
        "id": "DfM1EK70fhNe"
      },
      "source": [
        "x = int(input())\r\n",
        "y = int(input())\r\n",
        "print(\"x > y:\", x > y)"
      ],
      "execution_count": null,
      "outputs": []
    },
    {
      "cell_type": "markdown",
      "metadata": {
        "id": "f-Bxg1MjfsbQ"
      },
      "source": [
        "Viết chương trình Python sử dụng các toán tử gán để thao tác với hai số tự nhiên a và Total được nhập từ bàn phím. Sau đó, in ra màn hình các giá trị của Total trên từng dòng như sau:\r\n",
        "\r\n",
        "The Value of the Total after using += Operator is: {A}\r\n",
        "The Value of the Total after using -= Operator is: {B}\r\n",
        "The Value of the Total after using *= Operator is: {C}\r\n",
        "The Value of the Total after using //= Operator is: {D}\r\n",
        "The Value of the Total after using **= Operator is: {E}\r\n",
        "The Value of the Total after using /= Operator is: {F}\r\n",
        "The Value of the Total after using %= Operator is: {G}\r\n",
        "Với A, B, C, D, E, F, G, H là các giá trị của Total sau khi sử dụng các toán tử tương ứng\r\n",
        "\r\n",
        "Ví dụ nếu bạn nhập a = 7, Total = 21 thì màn hình sẽ hiển thị ra:\r\n",
        "\r\n",
        "The Value of the Total after using += Operator is: 28\r\n",
        "The Value of the Total after using -= Operator is: 21\r\n",
        "The Value of the Total after using *= Operator is: 147\r\n",
        "The Value of the Total after using //= Operator is: 21\r\n",
        "The Value of the Total after using **= Operator is: 1801088541\r\n",
        "The Value of the Total after using /= Operator is: 257298363.0\r\n",
        "The Value of the Total after using %= Operator is: 0.0"
      ]
    },
    {
      "cell_type": "code",
      "metadata": {
        "id": "8QaxMRE_fveX"
      },
      "source": [
        "a = int(input())\r\n",
        "Total = int(input())\r\n",
        "\r\n",
        "Total += a # Using += Operator\r\n",
        "print(\"The Value of the Total after using += Operator is:\", Total)\r\n",
        "Total -= a # Using -= Operator\r\n",
        "print(\"The Value of the Total after using -= Operator is:\", Total)\r\n",
        "Total *= a # Using *= Operator\r\n",
        "print(\"The Value of the Total after using *= Operator is:\", Total)\r\n",
        "Total //= a # Using //= Operator\r\n",
        "print(\"The Value of the Total after using //= Operator is:\", Total)\r\n",
        "Total **= a # Using **= Operator\r\n",
        "print(\"The Value of the Total after using **= Operator is:\", Total)\r\n",
        "Total /= a # Using /= Operator\r\n",
        "print(\"The Value of the Total after using /= Operator is:\", Total)\r\n",
        "Total %= a# Using %= Operator\r\n",
        "print(\"The Value of the Total after using %= Operator is:\", Total)"
      ],
      "execution_count": null,
      "outputs": []
    },
    {
      "cell_type": "markdown",
      "metadata": {
        "id": "hZ0Id90ff3Yh"
      },
      "source": [
        "Viết chương trình nhập từ bàn phím xâu x và kiểm tra xem trong xâu x có chứa ký tự 'H' hay không, nếu có thì hiển thị ra màn hình True, ngược lại hiển thị False.\r\n",
        "\r\n",
        "Ví dụ nếu bạn nhập x = \"PYTHON\" thì màn hình sẽ hiển thị ra:\r\n",
        "\r\n",
        "True\r\n",
        "Nếu bạn nhập x = \"Codelearn\" thì màn hình sẽ hiển thị ra:\r\n",
        "\r\n",
        "False"
      ]
    },
    {
      "cell_type": "code",
      "metadata": {
        "id": "_2AVdmlggFmQ"
      },
      "source": [
        "x = input()\r\n",
        "print('H' in x)"
      ],
      "execution_count": null,
      "outputs": []
    },
    {
      "cell_type": "markdown",
      "metadata": {
        "id": "Gf2KA-60gI1s"
      },
      "source": [
        "Viết chương trình nhập từ bàn phím 2 số nguyên a và b. Sau đó kiểm tra xem số a và b có cùng giá trị hay không, nếu có thì hiển thị ra màn hình True, ngược lại hiển thị False.\r\n",
        "\r\n",
        "Ví dụ nếu bạn nhập a = 10, b = 10 thì màn hình sẽ hiển thị ra:\r\n",
        "\r\n",
        "True\r\n",
        "Nếu bạn nhập a = 5, b = 7 thì màn hình sẽ hiển thị ra:\r\n",
        "\r\n",
        "False"
      ]
    },
    {
      "cell_type": "code",
      "metadata": {
        "id": "XI3_Wc2agJu4"
      },
      "source": [
        "a = int(input())\r\n",
        "b = int(input())\r\n",
        "\r\n",
        "print(a == b)"
      ],
      "execution_count": null,
      "outputs": []
    },
    {
      "cell_type": "markdown",
      "metadata": {
        "id": "FZkl0tkoiQAD"
      },
      "source": [
        "Cho 4 số nguyên x, y, z và t được nhập từ bàn phím. Bạn hãy viết chương trình để kiểm tra 4 giá trị này có thoả mãn điều kiện x > y và z < t hay không. In ra màn hình \"Result evaluation is True\" nếu 4 số thoả mãn điều kiện; nếu không, in ra \"Result evaluation is False\".\r\n",
        "\r\n",
        "Ví dụ nếu bạn nhập x = 5, y = 6, z = 8, t = 3 thì màn hình sẽ hiển thị ra:\r\n",
        "\r\n",
        "Result evaluation is False\r\n",
        "Nếu bạn nhập x = 10, y = 3, z = 7, t = 13 thì màn hình sẽ hiển thị ra:\r\n",
        "\r\n",
        "Result evaluation is True"
      ]
    },
    {
      "cell_type": "code",
      "metadata": {
        "id": "lLzG2556iRPs"
      },
      "source": [
        "x = int(input())\r\n",
        "y = int(input())\r\n",
        "z = int(input())\r\n",
        "t = int(input())\r\n",
        "\r\n",
        "print(\"Result evaluation is\", (x > y) and (z < t))"
      ],
      "execution_count": null,
      "outputs": []
    }
  ]
}