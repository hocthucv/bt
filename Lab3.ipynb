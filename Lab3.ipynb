{
  "nbformat": 4,
  "nbformat_minor": 0,
  "metadata": {
    "colab": {
      "name": "Lab3.ipynb",
      "provenance": [],
      "collapsed_sections": [],
      "authorship_tag": "ABX9TyP9XPOPQuD5qk6s9I16UnX8",
      "include_colab_link": true
    },
    "kernelspec": {
      "display_name": "Python 3",
      "name": "python3"
    },
    "language_info": {
      "name": "python"
    }
  },
  "cells": [
    {
      "cell_type": "markdown",
      "metadata": {
        "id": "view-in-github",
        "colab_type": "text"
      },
      "source": [
        "<a href=\"https://colab.research.google.com/github/hocthucv/bt/blob/main/Lab3.ipynb\" target=\"_parent\"><img src=\"https://colab.research.google.com/assets/colab-badge.svg\" alt=\"Open In Colab\"/></a>"
      ]
    },
    {
      "cell_type": "code",
      "metadata": {
        "colab": {
          "base_uri": "https://localhost:8080/"
        },
        "id": "lcR1zmcSTW79",
        "outputId": "e181cc56-5b94-48a3-bb7f-d57dde8497c0"
      },
      "source": [
        "#Lab3.1\n",
        "def tim(i,lst):\n",
        "    r = len(lst) - 1\n",
        "    l = 0\n",
        "    while l <= r:\n",
        "        m = (l + r)//2\n",
        "        if lst[m] == i:\n",
        "            return m\n",
        "        elif lst[m] > i:\n",
        "            r = m - 1\n",
        "        elif lst[m] < i:\n",
        "            l = m + 1\n",
        "    else:\n",
        "        return -1\n",
        "\n",
        "ketqua = []\n",
        "lst = [int(_) for _ in input().strip().split()][1:]\n",
        "point = [int(_) for _ in input().strip().split()][1:]\n",
        "for t in point:\n",
        "    ketqua.append(tim(t,lst))\n",
        "*ketqua"
      ],
      "execution_count": null,
      "outputs": [
        {
          "output_type": "stream",
          "text": [
            "3 4 5 6\n",
            "2 4 9\n"
          ],
          "name": "stdout"
        },
        {
          "output_type": "execute_result",
          "data": {
            "text/plain": [
              "[0, -1]"
            ]
          },
          "metadata": {
            "tags": []
          },
          "execution_count": 66
        }
      ]
    },
    {
      "cell_type": "code",
      "metadata": {
        "colab": {
          "base_uri": "https://localhost:8080/"
        },
        "id": "Ar-2Ee7z8Uqi",
        "outputId": "06da3a1c-88ca-48c6-bbcb-143d6c007cda"
      },
      "source": [
        "#Lab3.2\n",
        "def majority_element(a, left, right):\n",
        "    if left == right:\n",
        "        return -1\n",
        "    if left + 1 == right:\n",
        "        return a[left]\n",
        "\n",
        "    left_m = majority_element(a, left, (left + right + 1)//2)\n",
        "    right_m = majority_element(a, (left + right + 1)//2, right)\n",
        "    left_count = 0\n",
        "    for i in range(left, right):\n",
        "        if a[i] == left_m:\n",
        "            left_count += 1\n",
        "    if left_count > (right-left)//2:\n",
        "        return left_m\n",
        "\n",
        "    right_count = 0\n",
        "    for i in range(left, right):\n",
        "        if a[i] == right_m:\n",
        "            right_count += 1\n",
        "    if right_count > (right-left)//2:\n",
        "        return right_m\n",
        "\n",
        "    return -1\n",
        "\n",
        "n = int(input())\n",
        "a = [int(x) for x in input().split()]\n",
        "\n",
        "if majority_element(a, 0, len(a)) != -1:\n",
        "    print(1)\n",
        "else:\n",
        "    print(0)\n"
      ],
      "execution_count": 5,
      "outputs": [
        {
          "output_type": "stream",
          "text": [
            "4\n",
            "1 2 3 4\n",
            "0\n"
          ],
          "name": "stdout"
        }
      ]
    }
  ]
}