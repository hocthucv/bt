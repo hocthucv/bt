{
  "nbformat": 4,
  "nbformat_minor": 0,
  "metadata": {
    "colab": {
      "name": "lab1.ipynb",
      "provenance": []
    },
    "kernelspec": {
      "name": "python3",
      "display_name": "Python 3"
    }
  },
  "cells": [
    {
      "cell_type": "markdown",
      "metadata": {
        "id": "P3JzIoh2co5k"
      },
      "source": [
        "Bạn hãy điền các câu lệnh thích hợp vào dấu ... để chương trình hiển thị ra màn hình dòng chữ:\r\n",
        "\r\n",
        "Hello, World!"
      ]
    },
    {
      "cell_type": "code",
      "metadata": {
        "colab": {
          "base_uri": "https://localhost:8080/"
        },
        "id": "d3CItZTYcVDl",
        "outputId": "f41ffac2-0736-4ca0-868d-5b1a0147b595"
      },
      "source": [
        "print(\"Hello, World!\")"
      ],
      "execution_count": 1,
      "outputs": [
        {
          "output_type": "stream",
          "text": [
            "Hello, World!\n"
          ],
          "name": "stdout"
        }
      ]
    },
    {
      "cell_type": "markdown",
      "metadata": {
        "id": "UDzylMiecuVU"
      },
      "source": [
        "Bạn hãy điền các câu lệnh thích hợp vào dấu ... để chương trình hiển thị ra màn hình dòng chữ:\r\n",
        "\r\n",
        "Welcome to Codelearn.io!"
      ]
    },
    {
      "cell_type": "code",
      "metadata": {
        "colab": {
          "base_uri": "https://localhost:8080/"
        },
        "id": "syYUGbRBcy8N",
        "outputId": "cb0a2980-7250-4bff-d49e-02b434e8eddd"
      },
      "source": [
        "print(\"Welcome to Codelearn.io!\")"
      ],
      "execution_count": 2,
      "outputs": [
        {
          "output_type": "stream",
          "text": [
            "Welcome to Codelearn.io!\n"
          ],
          "name": "stdout"
        }
      ]
    },
    {
      "cell_type": "markdown",
      "metadata": {
        "id": "Taj4-VZSc2A9"
      },
      "source": [
        "Bạn hãy viết chương trình Python hiển thị ra màn hình tổng của 3273 và 2282."
      ]
    },
    {
      "cell_type": "code",
      "metadata": {
        "colab": {
          "base_uri": "https://localhost:8080/"
        },
        "id": "EW5mbQpjc5wz",
        "outputId": "787d5afd-d5bc-4100-bbc9-51c929bbbdac"
      },
      "source": [
        "print(3273+2282)"
      ],
      "execution_count": 3,
      "outputs": [
        {
          "output_type": "stream",
          "text": [
            "5555\n"
          ],
          "name": "stdout"
        }
      ]
    },
    {
      "cell_type": "markdown",
      "metadata": {
        "id": "0Dxvuscuc8jb"
      },
      "source": [
        "Bạn hãy viết chương trình hiển thị ra màn hình tổng, hiệu, tích và thương của 2468 và 1234 giống như sau:\r\n",
        "\r\n",
        "2468 + 1234 = {P1}\r\n",
        "2468 - 1234 = {P2}\r\n",
        "2468 * 1234 = {P3}\r\n",
        "2468 / 1234 = {P4}"
      ]
    },
    {
      "cell_type": "code",
      "metadata": {
        "colab": {
          "base_uri": "https://localhost:8080/"
        },
        "id": "JGOFI7exdDCm",
        "outputId": "f2afbf17-c0ca-409c-bfca-dbe9442051e2"
      },
      "source": [
        "p1 = 2468 + 1234 \r\n",
        "p2 = 2468 - 1234 \r\n",
        "p3 = 2468 * 1234 \r\n",
        "p4 = 2468 / 1234 \r\n",
        "print(\"2468 + 1234 =\", p1)\r\n",
        "print(\"2468 - 1234 =\", p2)\r\n",
        "print(\"2468 * 1234 =\", p3)\r\n",
        "print(\"2468 / 1234 =\", p4)"
      ],
      "execution_count": 4,
      "outputs": [
        {
          "output_type": "stream",
          "text": [
            "2468 + 1234 = 3702\n",
            "2468 - 1234 = 1234\n",
            "2468 * 1234 = 3045512\n",
            "2468 / 1234 = 2.0\n"
          ],
          "name": "stdout"
        }
      ]
    },
    {
      "cell_type": "markdown",
      "metadata": {
        "id": "SpCbYn40dKpT"
      },
      "source": [
        "Cho hình chữ nhật có chiều dài và chiều rộng lần lượt là 7.8 và 6.4. Bạn hãy viết chương trình hiển thị ra màn hình thông tin sau:\r\n",
        "\r\n",
        "Area = {P1}\r\n",
        "Perimeter = {P2}"
      ]
    },
    {
      "cell_type": "code",
      "metadata": {
        "colab": {
          "base_uri": "https://localhost:8080/"
        },
        "id": "oausfUXGdLUo",
        "outputId": "67998cab-9b44-4757-b1df-28e5d7e74cd1"
      },
      "source": [
        "print(\"Area =\", 6.4 * 7.8)\r\n",
        "print(\"Perimeter =\", (6.4 + 7.8) * 2)"
      ],
      "execution_count": 5,
      "outputs": [
        {
          "output_type": "stream",
          "text": [
            "Area = 49.92\n",
            "Perimeter = 28.4\n"
          ],
          "name": "stdout"
        }
      ]
    },
    {
      "cell_type": "markdown",
      "metadata": {
        "id": "GnyNZ8dOdNgM"
      },
      "source": [
        "Bạn hãy sử dụng comment (ghi chú) để chương trình hiển thị ra màn hình dòng chữ\r\n",
        "\r\n",
        "Hello, World!"
      ]
    },
    {
      "cell_type": "code",
      "metadata": {
        "colab": {
          "base_uri": "https://localhost:8080/"
        },
        "id": "JaTzn5T8diVY",
        "outputId": "5fa80ef3-9079-4698-e122-9a711e56b2bd"
      },
      "source": [
        "\"\"\"\r\n",
        "A simple Python program to display \"Hello, World!\" on the screen\r\n",
        "using Python's print() function\r\n",
        "\"\"\"\r\n",
        "\"\"\" Display Hello World on the screen\"\"\"\r\n",
        "print(\"Hello, World!\")"
      ],
      "execution_count": 6,
      "outputs": [
        {
          "output_type": "stream",
          "text": [
            "Hello, World!\n"
          ],
          "name": "stdout"
        }
      ]
    }
  ]
}