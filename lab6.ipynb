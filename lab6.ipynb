{
  "nbformat": 4,
  "nbformat_minor": 0,
  "metadata": {
    "colab": {
      "name": "lab6.ipynb",
      "provenance": [],
      "collapsed_sections": []
    },
    "kernelspec": {
      "name": "python3",
      "display_name": "Python 3"
    }
  },
  "cells": [
    {
      "cell_type": "markdown",
      "metadata": {
        "id": "8aqy1W8VNQ91"
      },
      "source": [
        "Cho chuỗi s được nhập từ bàn phím, bạn hãy viết chương trình chuyển các kí tự trong chuỗi s thành in hoa và hiển thị ra màn hình."
      ]
    },
    {
      "cell_type": "code",
      "metadata": {
        "id": "V2i2hDjuNQBB"
      },
      "source": [
        "s = input()\r\n",
        "print(s.upper())"
      ],
      "execution_count": null,
      "outputs": []
    },
    {
      "cell_type": "markdown",
      "metadata": {
        "id": "VFVPXCJnNUCe"
      },
      "source": [
        "Cho chuỗi s được nhập vào từ bàn phím, bạn hãy viết chương trình tạo ra một chuỗi nối 2 kí tự đầu và 2 kí tự cuối của chuỗi s và hiển thị ra màn hình. Nếu chuỗi s có độ dài nhỏ hơn 2 thì hiển thị ra chuỗi rỗng."
      ]
    },
    {
      "cell_type": "code",
      "metadata": {
        "id": "DUZnZldYNXlp"
      },
      "source": [
        "s = input()\r\n",
        "if len(s) < 2:\r\n",
        "    print(\"\")\r\n",
        "else:\r\n",
        "    print(s[0:2] + s[-2:])"
      ],
      "execution_count": null,
      "outputs": []
    },
    {
      "cell_type": "markdown",
      "metadata": {
        "id": "FWS_ssesNZd9"
      },
      "source": [
        "Cho trước hai chuỗi s1 và s2 được nhập từ bàn phím, bạn hãy viết chương trình đổi chỗ 2 ký tự đầu tiên của s1 và s2 cho nhau. Sau đó hiển thị ra màn hình chuỗi mới có giá trị s1 + \" \" + s2."
      ]
    },
    {
      "cell_type": "code",
      "metadata": {
        "id": "xbs3uU_oNcOY"
      },
      "source": [
        "s1 = input()\r\n",
        "s2 = input()\r\n",
        "\r\n",
        "print(s2[0:2] + s1[2:] + \" \" + s1[0:2] + s2[2:])"
      ],
      "execution_count": null,
      "outputs": []
    },
    {
      "cell_type": "markdown",
      "metadata": {
        "id": "TQTyN1TkNgdE"
      },
      "source": [
        "Cho trước chuỗi s được nhập từ bàn phím, bạn hãy viết chương trình để đảo ngược thứ tự xuất hiện của các từ trong chuỗi s và sau đó hiển thị ra màn hình chuỗi đã được xử lý. "
      ]
    },
    {
      "cell_type": "code",
      "metadata": {
        "id": "izLZUf0sNhLW"
      },
      "source": [
        "s = str(input())\r\n",
        "\r\n",
        "print(\" \".join(s.split()[::-1]))"
      ],
      "execution_count": null,
      "outputs": []
    }
  ]
}