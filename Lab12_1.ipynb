{
  "nbformat": 4,
  "nbformat_minor": 0,
  "metadata": {
    "colab": {
      "name": "Lab12.1.ipynb",
      "provenance": [],
      "collapsed_sections": [],
      "authorship_tag": "ABX9TyMbDeDHmdcZrQHlvtYUhIGt",
      "include_colab_link": true
    },
    "kernelspec": {
      "name": "python3",
      "display_name": "Python 3"
    },
    "language_info": {
      "name": "python"
    }
  },
  "cells": [
    {
      "cell_type": "markdown",
      "metadata": {
        "id": "view-in-github",
        "colab_type": "text"
      },
      "source": [
        "<a href=\"https://colab.research.google.com/github/hocthucv/bt/blob/main/Lab12_1.ipynb\" target=\"_parent\"><img src=\"https://colab.research.google.com/assets/colab-badge.svg\" alt=\"Open In Colab\"/></a>"
      ]
    },
    {
      "cell_type": "code",
      "metadata": {
        "colab": {
          "base_uri": "https://localhost:8080/"
        },
        "id": "6ZxyqlMH0KaG",
        "outputId": "cb422ec9-e250-4a2a-9310-7338ac6665a8"
      },
      "source": [
        "class Graph:\n",
        "\t\n",
        "\tdef __init__(self, V):\n",
        "\t\t\n",
        "\t\tself.V = V\n",
        "\t\tself.g = [[0 for j in range(self.V + 1)]\n",
        "\t\t\t\t\tfor i in range(self.V + 1)]\n",
        "\t\tfor i in range(self.V + 1):\n",
        "\t\t\tself.g[i][i] = 1\n",
        "\n",
        "\t# Function to add edge between nodes\n",
        "\tdef addEdge(self, u, v):\n",
        "\n",
        "\t\tself.g[u][v] = 1\n",
        "\t\tself.g[v][u] = 1\n",
        "\n",
        "\t# Function to compute the path\n",
        "\tdef computePaths(self):\n",
        "\n",
        "\t\t# Use Floyd Warshall algorithm\n",
        "\t\t# to detect if a path exists\n",
        "\t\tfor k in range(1, self.V + 1):\n",
        "\n",
        "\t\t\t# Try every vertex as an\n",
        "\t\t\t# intermediate vertex\n",
        "\t\t\t# to check if a path exists\n",
        "\t\t\tfor i in range(1, self.V + 1):\n",
        "\t\t\t\tfor j in range(1, self.V + 1):\n",
        "\t\t\t\t\tself.g[i][j] = (self.g[i][j] |\n",
        "\t\t\t\t\t\t\t\t(self.g[i][k] and\n",
        "\t\t\t\t\t\t\t\t\tself.g[k][j]))\n",
        "\t\t\t\t\t\n",
        "\t# Function to check if nodes\n",
        "\t# are reachable\n",
        "\tdef isReachable(self, s, d):\n",
        "\n",
        "\t\tif (self.g[s][d] == 1):\n",
        "\t\t\treturn True\n",
        "\t\telse:\n",
        "\t\t\treturn False\n",
        "\t\t\n",
        "# Driver code\n",
        "if __name__=='__main__':\n",
        "\n",
        "    n, m = map(int, input().split())\n",
        "    _g = Graph(n)\n",
        "    for i in range(m):\n",
        "        u, v = map(int, input().split())\n",
        "        _g.addEdge(u, v)\n",
        "    \n",
        "    _g.computePaths()\n",
        "\n",
        "    _u, _v = map(int, input().split())\n",
        "\t\n",
        "    if (_g.isReachable(_u, _v)):\n",
        "        print(1)\n",
        "    else:\n",
        "        print(0)"
      ],
      "execution_count": 27,
      "outputs": [
        {
          "output_type": "stream",
          "text": [
            "4 2\n",
            "1 2\n",
            "3 2\n",
            "1 2\n",
            "1\n"
          ],
          "name": "stdout"
        }
      ]
    }
  ]
}