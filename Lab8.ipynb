{
  "nbformat": 4,
  "nbformat_minor": 0,
  "metadata": {
    "colab": {
      "name": "Lab8.ipynb",
      "provenance": [],
      "collapsed_sections": []
    },
    "kernelspec": {
      "name": "python3",
      "display_name": "Python 3"
    }
  },
  "cells": [
    {
      "cell_type": "markdown",
      "metadata": {
        "id": "TXoryaoqXdzq"
      },
      "source": [
        "9.1. Phòng làm việc của trưởng phòng Yoon có 10 bạn nam. Yoon muốn tính chiều cao trung\r\n",
        "bình của các số đo chiều cao khác nhau của các bạn trong phòng của mình. Bạn hãy viết chương\r\n",
        "trình giúp Yoon xác định chiều cao trung bình này biết số đo của 10 bạn được nhập từ bàn phím\r\n",
        "trên 1 dòng."
      ]
    },
    {
      "cell_type": "code",
      "metadata": {
        "colab": {
          "base_uri": "https://localhost:8080/"
        },
        "id": "w6VHtrxVXeyk",
        "outputId": "2ae7341a-0310-478c-ea1d-8ada85e6dda3"
      },
      "source": [
        "import statistics as stat\r\n",
        "n = input()\r\n",
        "a = set([float(i) for i in n.strip().split()])\r\n",
        "print(round(stat.mean(a),2))"
      ],
      "execution_count": 1,
      "outputs": [
        {
          "output_type": "stream",
          "text": [
            "3\n",
            "3.0\n"
          ],
          "name": "stdout"
        }
      ]
    },
    {
      "cell_type": "markdown",
      "metadata": {
        "id": "xKDqOjYCb4Lt"
      },
      "source": [
        "9.2. Mỗi tháng, giám đốc Yoon đi công tác qua 3-10 quốc gia, có những quốc gia Yoon bay\r\n",
        "qua bay lại nhiều lần. Anh ấy muốn đếm tổng số các quốc gia khác nhau mà anh ấy đã đi qua\r\n",
        "thông qua thông qua thông tin trên hộ chiếu. Áp dụng hàm set.add() để giúp Yoon thống kê số\r\n",
        "quốc gia mà anh ấy đã đi qua."
      ]
    },
    {
      "cell_type": "code",
      "metadata": {
        "colab": {
          "base_uri": "https://localhost:8080/"
        },
        "id": "bE_Wsdn_gxNc",
        "outputId": "2b94ca8a-f3c7-433e-e110-a7b827d2bedb"
      },
      "source": [
        "n = input()\r\n",
        "a = set([i for i in n.strip().split()])\r\n",
        "print(len(a))"
      ],
      "execution_count": null,
      "outputs": [
        {
          "output_type": "stream",
          "text": [
            "China Vietnam China Laos Vietnam Campuchia Vietnam Vietnam\n",
            "4\n"
          ],
          "name": "stdout"
        }
      ]
    },
    {
      "cell_type": "markdown",
      "metadata": {
        "id": "Xsx8WqyQnIQy"
      },
      "source": [
        "9.3. Cho một dãy số gồm các số tự nhiên và một dòng các lệnh remove cần được thực thi. Hãy\r\n",
        "đưa dãy số tự nhiên này vào một set s, thực thi các lệnh remove ở dòng lệnh remove và in ra tổng các\r\n",
        "phần tử còn lại trong set s. Nếu giá trị cần remove không có trong set s, bỏ qua giá trị ấy."
      ]
    },
    {
      "cell_type": "code",
      "metadata": {
        "colab": {
          "base_uri": "https://localhost:8080/"
        },
        "id": "bF0ZqDQSnMMI",
        "outputId": "6e5a32f4-83b4-40c0-86da-c8806f2734b6"
      },
      "source": [
        "s = set([int(i) for i in input().strip().split()])\r\n",
        "c = [i for i in input().strip().split()]\r\n",
        "numbers_remove = [c[i] for i in range(len(c))if i % 2 !=0]\r\n",
        "numbers_remove = set([int(num) for num in numbers_remove])\r\n",
        "for num in numbers_remove:\r\n",
        "  if num in s:\r\n",
        "    s.remove(num)\r\n",
        "print(sum(s))\r\n",
        "#print(s)"
      ],
      "execution_count": null,
      "outputs": [
        {
          "output_type": "stream",
          "text": [
            "10 7 8 9 12 13 15 14\n",
            "remove 10 remove 7 remove 16 remove 8 remove 12\n",
            "51\n"
          ],
          "name": "stdout"
        }
      ]
    }
  ]
}