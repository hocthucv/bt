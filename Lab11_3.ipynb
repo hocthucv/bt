{
  "nbformat": 4,
  "nbformat_minor": 0,
  "metadata": {
    "colab": {
      "name": "Lab11.3.ipynb",
      "provenance": [],
      "collapsed_sections": []
    },
    "kernelspec": {
      "name": "python3",
      "display_name": "Python 3"
    }
  },
  "cells": [
    {
      "cell_type": "markdown",
      "metadata": {
        "id": "OtcWqTZS_yZL"
      },
      "source": [
        "Đề bài: Tiếp tục với bài tập về phương thức ở task trước, ở bài này chúng ta sẽ tính lương cho một quản lý và in ra kết quả dựa theo lương nhận và hệ số hiệu quả. Hãy hoàn thiện các class NhanVien, QuanLy (kế thừa class NhanVien) và 3 phương thức tinh_luong, hien_thi_luong và tinh_luong_thuong.\r\n",
        "Công thức tính lương thực nhận cho quản lý:\r\n",
        "Lương tổng chưa thưởng = Lương cơ bản x số ngày làm việc x hệ số lương - 1 triệu đồng.\r\n",
        " \r\n",
        "Nếu lương tổng chưa thưởng > 9 triệu VNĐ/tháng: Lương nhận chưa thưởng = 90% lương tổng chưa thưởng.\r\n",
        " \r\n",
        "Các trường hợp khác: Lương nhận chưa thưởng = lương tổng chưa thưởng.\r\n",
        " \r\n",
        "Nếu hệ số hiệu quả < 1: Lương thực nhận = lương nhận chưa thưởng * hệ số hiệu quả.\r\n",
        " \r\n",
        "Các trường hợp khác: Lương thưởng = lương tổng chưa thưởng * (hệ số hiệu quả - 1) * 85%.\r\n",
        "Lương thực nhận = lương tổng chưa thưởng + lương thưởng\r\n"
      ]
    },
    {
      "cell_type": "code",
      "metadata": {
        "colab": {
          "base_uri": "https://localhost:8080/"
        },
        "id": "q1ww3Cx5_iOS",
        "outputId": "207a549d-81f5-4b2f-e3a1-71ef25ed77d2"
      },
      "source": [
        "class NhanVien():\r\n",
        "\r\n",
        "    def __init__(self, name, n):\r\n",
        "        self.name = name\r\n",
        "        self.thang = int(n.strip().split()[0])\r\n",
        "        self.luong_co_ban = int(n.strip().split()[1])\r\n",
        "        self.he_so_luong = float(n.strip().split()[3])\r\n",
        "        self.ngay_lam_viec = int(n.strip().split()[2])\r\n",
        "        self.total_luong = self.luong_co_ban*self.ngay_lam_viec*self.he_so_luong - 1000000    #Lương tổng chưa thưởng = Lương cơ bản x số ngày làm việc x hệ số lương - 1tr\r\n",
        "        self.thucnhan = self.total_luong if self.total_luong <= 9000000 else self.total_luong*0.9    #Lương nhận chưa thưởng = 90% lương tổng chưa thưởng\r\n",
        "        self.he_so_hq = float(n.strip().split()[4])              #he so hieu qua\r\n",
        "\r\n",
        "    def tinh_luong(self):\r\n",
        "        return self.thucnhan\r\n",
        "\r\n",
        "    def hien_thi_luong(self):\r\n",
        "        nhan = self.tinh_luong()\r\n",
        "        print('Luong cua nhan vien {} nhan duoc trong thang {} la: {} VND.'.format(self.name,self.thang,nhan))\r\n",
        "\r\n",
        "class QuanLy(NhanVien):\r\n",
        "\r\n",
        "  def __init__(self):\r\n",
        "    NhanVien.__init__(self,input(),input())\r\n",
        "\r\n",
        "  def tinh_luongql(self):\r\n",
        "    if self.he_so_hq < 1:                             #Nếu hệ số hiệu quả < 1: Lương thực nhận = lương nhận chưa thưởng * hệ số hiệu quả.\r\n",
        "      return self.thucnhan*self.he_so_hq\r\n",
        "    else:                                             #Các trường hợp khác: Lương thưởng = lương tổng chưa thưởng * (hệ số hiệu quả - 1) * 85%.\r\n",
        "      thuog = self.total_luong*0.85*(self.he_so_hq - 1)  #Lương thực nhận = lương tổng chưa thưởng + lương thưởng\r\n",
        "      return self.thucnhan + thuog\r\n",
        "\r\n",
        "  def hien_thi_luong(self):\r\n",
        "    ql = self.tinh_luongql()\r\n",
        "    print('Luong cua nhan vien {} nhan duoc trong thang {} la: {} VND'.format(self.name,self.thang,ql))\r\n",
        " \r\n",
        "QuanLy().hien_thi_luong()\r\n",
        "#NhanVien(input(),input()).tinh_luong()"
      ],
      "execution_count": 2,
      "outputs": [
        {
          "output_type": "stream",
          "text": [
            "bvc\n",
            "4 1000000 15 1.7 1.5\n",
            "Luong cua nhan vien bvc nhan duoc trong thang 4 la: 32462500.0 VND\n"
          ],
          "name": "stdout"
        }
      ]
    }
  ]
}