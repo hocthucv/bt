{
  "nbformat": 4,
  "nbformat_minor": 0,
  "metadata": {
    "colab": {
      "name": "Lab5.1.ipynb",
      "provenance": [],
      "collapsed_sections": [],
      "authorship_tag": "ABX9TyNYa3XruSRnXCpYf+S8F7F6",
      "include_colab_link": true
    },
    "kernelspec": {
      "name": "python3",
      "display_name": "Python 3"
    },
    "language_info": {
      "name": "python"
    }
  },
  "cells": [
    {
      "cell_type": "markdown",
      "metadata": {
        "id": "view-in-github",
        "colab_type": "text"
      },
      "source": [
        "<a href=\"https://colab.research.google.com/github/hocthucv/bt/blob/main/Lab5_1.ipynb\" target=\"_parent\"><img src=\"https://colab.research.google.com/assets/colab-badge.svg\" alt=\"Open In Colab\"/></a>"
      ]
    },
    {
      "cell_type": "code",
      "metadata": {
        "colab": {
          "base_uri": "https://localhost:8080/"
        },
        "id": "9h0Oo9cd-4pR",
        "outputId": "a67fed1d-0db5-433e-9e34-060535b84cc5"
      },
      "source": [
        "#Lab5.1\n",
        "def qsort(arr):\n",
        "    if len(arr) <= 1: return arr\n",
        "    pivot = arr[0]\n",
        "    less    = [x for x in arr if x < pivot]\n",
        "    equal   = [x for x in arr if x == pivot]\n",
        "    greater = [x for x in arr if x > pivot]\n",
        "    sorted_arr = qsort(less) + equal + qsort(greater)\n",
        "    return sorted_arr\n",
        "\n",
        "n = [int(_) for _ in input().strip().split()]\n",
        "qsort(n)    "
      ],
      "execution_count": 7,
      "outputs": [
        {
          "output_type": "stream",
          "text": [
            "56 2 45 58 4 4 12\n"
          ],
          "name": "stdout"
        },
        {
          "output_type": "execute_result",
          "data": {
            "text/plain": [
              "[2, 4, 4, 12, 45, 56, 58]"
            ]
          },
          "metadata": {
            "tags": []
          },
          "execution_count": 7
        }
      ]
    }
  ]
}