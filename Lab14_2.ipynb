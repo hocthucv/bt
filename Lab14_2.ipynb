{
  "nbformat": 4,
  "nbformat_minor": 0,
  "metadata": {
    "colab": {
      "name": "Lab14.2.ipynb",
      "provenance": [],
      "collapsed_sections": [],
      "authorship_tag": "ABX9TyMUk7E/Q2cDfWkeHxyRnu3U",
      "include_colab_link": true
    },
    "kernelspec": {
      "name": "python3",
      "display_name": "Python 3"
    },
    "language_info": {
      "name": "python"
    }
  },
  "cells": [
    {
      "cell_type": "markdown",
      "metadata": {
        "id": "view-in-github",
        "colab_type": "text"
      },
      "source": [
        "<a href=\"https://colab.research.google.com/github/hocthucv/bt/blob/main/Lab14_2.ipynb\" target=\"_parent\"><img src=\"https://colab.research.google.com/assets/colab-badge.svg\" alt=\"Open In Colab\"/></a>"
      ]
    },
    {
      "cell_type": "code",
      "metadata": {
        "colab": {
          "base_uri": "https://localhost:8080/"
        },
        "id": "7or3taSJMzX9",
        "outputId": "1f0a186b-431f-463f-de41-d759e5cfa4d6"
      },
      "source": [
        "import queue as Q\n",
        "\n",
        "n, m = map(int, input().split())\n",
        "\n",
        "if n == 0 or m == 0:\n",
        "    print(0)\n",
        "    exit()\n",
        "graph = {}\n",
        "seen = {}\n",
        "\n",
        "infinity = float(\"inf\")\n",
        "\n",
        "visited = [False] * (n + 1)\n",
        "distance = [infinity] * (n + 1)\n",
        "dist = infinity\n",
        "\n",
        "for i in range(1, n+1):\n",
        "    graph[i] = set()\n",
        "\n",
        "for i in range(m):\n",
        "    u, v, w = map(int, input().split())\n",
        "    if u == v and w >= 0:\n",
        "        continue\n",
        "\n",
        "    if u not in graph:\n",
        "        graph[u].add((v, w))\n",
        "        seen[(u, v)] = w\n",
        "\n",
        "    else:\n",
        "\n",
        "        if (u, v) in seen:\n",
        "            # check whether the new edge from u to v is shorter, if yes, replace the old one\n",
        "            if w < seen[(u, v)]:\n",
        "                graph[u].remove((v, seen[(u, v)]))\n",
        "                graph[u].add((v, w))\n",
        "                seen[(u, v)] = w\n",
        "\n",
        "        else:\n",
        "            graph[u].add((v, w))\n",
        "            seen[(u, v)] = w\n",
        "\n",
        "distance[u] = 0\n",
        "\n",
        "change = False\n",
        "result = 0\n",
        "for u in graph:\n",
        "    for v, weight in graph[u]:\n",
        "        if distance[u] + weight < distance[v]:\n",
        "            distance[v] = distance[u] + weight\n",
        "            change = True\n",
        "if change:\n",
        "    result = 1\n",
        "print(result)"
      ],
      "execution_count": 2,
      "outputs": [
        {
          "output_type": "stream",
          "text": [
            "4 4\n",
            "1 2 -5\n",
            "4 1 2\n",
            "2 3 2\n",
            "3 1 1\n",
            "1\n"
          ],
          "name": "stdout"
        }
      ]
    }
  ]
}