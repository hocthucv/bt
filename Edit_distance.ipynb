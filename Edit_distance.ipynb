{
  "nbformat": 4,
  "nbformat_minor": 0,
  "metadata": {
    "colab": {
      "name": "Edit.distance.ipynb",
      "provenance": [],
      "collapsed_sections": [],
      "authorship_tag": "ABX9TyO5o9Yky+TbID75Itf2rKMS",
      "include_colab_link": true
    },
    "kernelspec": {
      "name": "python3",
      "display_name": "Python 3"
    },
    "language_info": {
      "name": "python"
    }
  },
  "cells": [
    {
      "cell_type": "markdown",
      "metadata": {
        "id": "view-in-github",
        "colab_type": "text"
      },
      "source": [
        "<a href=\"https://colab.research.google.com/github/hocthucv/bt/blob/main/Edit_distance.ipynb\" target=\"_parent\"><img src=\"https://colab.research.google.com/assets/colab-badge.svg\" alt=\"Open In Colab\"/></a>"
      ]
    },
    {
      "cell_type": "code",
      "metadata": {
        "colab": {
          "base_uri": "https://localhost:8080/"
        },
        "id": "yLmSksXnMWUq",
        "outputId": "12d75f13-94a1-4e04-8e03-bfe556f8e4b4"
      },
      "source": [
        "def edit_distance(s1, s2):\n",
        "    m=len(s1)+1\n",
        "    n=len(s2)+1\n",
        "\n",
        "    tbl = {}\n",
        "    for i in range(m): tbl[i,0]=i\n",
        "    for j in range(n): tbl[0,j]=j\n",
        "    for i in range(1, m):\n",
        "        for j in range(1, n):\n",
        "            cost = 0 if s1[i-1] == s2[j-1] else 1\n",
        "            tbl[i,j] = min(tbl[i, j-1]+1, tbl[i-1, j]+1, tbl[i-1, j-1]+cost)\n",
        "\n",
        "    return tbl[i,j]\n",
        "\n",
        "print(edit_distance(\"break\", \"ready\"))"
      ],
      "execution_count": 1,
      "outputs": [
        {
          "output_type": "stream",
          "text": [
            "3\n"
          ],
          "name": "stdout"
        }
      ]
    }
  ]
}