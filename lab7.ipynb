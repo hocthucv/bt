{
  "nbformat": 4,
  "nbformat_minor": 0,
  "metadata": {
    "colab": {
      "name": "lab7.ipynb",
      "provenance": [],
      "collapsed_sections": []
    },
    "kernelspec": {
      "name": "python3",
      "display_name": "Python 3"
    }
  },
  "cells": [
    {
      "cell_type": "markdown",
      "metadata": {
        "id": "Of1XjJLzOeCR"
      },
      "source": [
        "Cho một list các số nguyên n phần tử lst được nhập từ bàn phím. Bạn hãy viết chương trình hiển thị ra màn hình số nhỏ nhất trong list vừa nhập."
      ]
    },
    {
      "cell_type": "code",
      "metadata": {
        "colab": {
          "base_uri": "https://localhost:8080/"
        },
        "id": "ohsanXuON_k8",
        "outputId": "fbcd3d3f-b148-44cd-a594-4c5fd4de4860"
      },
      "source": [
        "n = int(input())\r\n",
        "lst = []\r\n",
        "for i in range(n):\r\n",
        "    lst.append(int(input()))\r\n",
        "print(min(lst))"
      ],
      "execution_count": 2,
      "outputs": [
        {
          "output_type": "stream",
          "text": [
            "3\n",
            "1\n",
            "2\n",
            "3\n",
            "1\n"
          ],
          "name": "stdout"
        }
      ]
    },
    {
      "cell_type": "markdown",
      "metadata": {
        "id": "CXJwqSBUOg4M"
      },
      "source": [
        "Cho một list các số nguyên n phần tử lst được nhập vào từ bàn phím, bạn hãy viết chương trình tính tổng các phần tử trong list vừa nhập."
      ]
    },
    {
      "cell_type": "code",
      "metadata": {
        "colab": {
          "base_uri": "https://localhost:8080/"
        },
        "id": "vnhwOKa_OkGF",
        "outputId": "726de501-e25e-42ed-cc87-b620b03b63e4"
      },
      "source": [
        "n = int(input())\r\n",
        "lst = []\r\n",
        "for i in range(n):\r\n",
        "    lst.append(int(input()))\r\n",
        "print(sum(lst))"
      ],
      "execution_count": 3,
      "outputs": [
        {
          "output_type": "stream",
          "text": [
            "3\n",
            "1\n",
            "2\n",
            "3\n",
            "6\n"
          ],
          "name": "stdout"
        }
      ]
    },
    {
      "cell_type": "markdown",
      "metadata": {
        "id": "H2o9U8nRPHVs"
      },
      "source": [
        "Cho một list các số nguyên n phần tử lst được nhập vào từ bàn phím, bạn hãy viết chương trình sắp xếp các phần tử trong list theo thứ tự tăng dần và hiển thị list đó ra màn hình."
      ]
    },
    {
      "cell_type": "code",
      "metadata": {
        "id": "1Mu3hDxXPIVF"
      },
      "source": [
        "n = int(input())\r\n",
        "lst = []\r\n",
        "for i in range(n):\r\n",
        "    lst.append(int(input()))\r\n",
        "lst.sort()\r\n",
        "print(lst)"
      ],
      "execution_count": null,
      "outputs": []
    },
    {
      "cell_type": "markdown",
      "metadata": {
        "id": "zMXaoCxAPMS4"
      },
      "source": [
        "Cho một list các số nguyên n phần tử lst được nhập vào từ bàn phím, bạn hãy viết chương trình hiển thị ra màn hình một list chứa các số số lẻ trong list vừa nhập."
      ]
    },
    {
      "cell_type": "code",
      "metadata": {
        "id": "a0Fa2fGzPM4Y"
      },
      "source": [
        "n = int(input())\r\n",
        "lst = []\r\n",
        "odd = []\r\n",
        "for i in range(n):\r\n",
        "    lst.append(int(input()))\r\n",
        "for i in lst:\r\n",
        "    if i % 2 != 0:\r\n",
        "        odd.append(i)\r\n",
        "print(odd)        "
      ],
      "execution_count": null,
      "outputs": []
    },
    {
      "cell_type": "markdown",
      "metadata": {
        "id": "qrhK7EKCPTTk"
      },
      "source": [
        "Cho một list các số nguyên n phần tử lst được nhập vào từ bàn phím, bạn hãy viết chương trình hiển thị ra màn hình một list chứa các số chia hết cho 5 trong list vừa nhập, nếu list không có số nào chia hết cho 5 thì hiển thị ra màn hình [0]."
      ]
    },
    {
      "cell_type": "code",
      "metadata": {
        "id": "gVz5HWHKPUKz"
      },
      "source": [
        "n = int(input())\r\n",
        "lst = []\r\n",
        "five = []\r\n",
        "for i in range(n):\r\n",
        "    lst.append(int(input()))\r\n",
        "for i in lst:\r\n",
        "    if i % 5 == 0:\r\n",
        "        five.append(i)\r\n",
        "if len(five) == 0:\r\n",
        "    five = [0]\r\n",
        "print(five)        "
      ],
      "execution_count": null,
      "outputs": []
    }
  ]
}