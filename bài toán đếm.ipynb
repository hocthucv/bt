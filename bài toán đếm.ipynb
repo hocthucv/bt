{
  "nbformat": 4,
  "nbformat_minor": 0,
  "metadata": {
    "colab": {
      "name": "Untitled10.ipynb",
      "provenance": [],
      "authorship_tag": "ABX9TyMZlZAE/87XnQOOZlvdAbGK",
      "include_colab_link": true
    },
    "kernelspec": {
      "name": "python3",
      "display_name": "Python 3"
    }
  },
  "cells": [
    {
      "cell_type": "markdown",
      "metadata": {
        "id": "view-in-github",
        "colab_type": "text"
      },
      "source": [
        "<a href=\"https://colab.research.google.com/github/hocthucv/bt/blob/main/b%C3%A0i%20to%C3%A1n%20%C4%91%E1%BA%BFm.ipynb\" target=\"_parent\"><img src=\"https://colab.research.google.com/assets/colab-badge.svg\" alt=\"Open In Colab\"/></a>"
      ]
    },
    {
      "cell_type": "code",
      "metadata": {
        "id": "5OxPLRHX1l1L",
        "outputId": "ccdb1ced-503c-4226-afe6-eae5b0f1f80d",
        "colab": {
          "base_uri": "https://localhost:8080/",
          "height": 119
        }
      },
      "source": [
        "x=[1,2,5,1,12,0,12,4,65,2,15,35,2,1,3,35,4]\n",
        "n=int(input(\"n=\"))\n",
        "print(\"Số lần xuất hiện:\", x.count(n))\n",
        "for i in range (len(x)):\n",
        "  if x[i] == n:\n",
        "    print(\"Vị trí xuất hiện: \", i)\n",
        "print(\"finished\")\n"
      ],
      "execution_count": 3,
      "outputs": [
        {
          "output_type": "stream",
          "text": [
            "n=2\n",
            "Số lần xuất hiện: 3\n",
            "Vị trí xuất hiện:  1\n",
            "Vị trí xuất hiện:  9\n",
            "Vị trí xuất hiện:  12\n",
            "finished\n"
          ],
          "name": "stdout"
        }
      ]
    }
  ]
}