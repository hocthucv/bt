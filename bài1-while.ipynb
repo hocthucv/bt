{
  "nbformat": 4,
  "nbformat_minor": 0,
  "metadata": {
    "colab": {
      "name": "Untitled6.ipynb",
      "provenance": [],
      "authorship_tag": "ABX9TyN5bKtP3vIC8Na54GoRR53U",
      "include_colab_link": true
    },
    "kernelspec": {
      "name": "python3",
      "display_name": "Python 3"
    }
  },
  "cells": [
    {
      "cell_type": "markdown",
      "metadata": {
        "id": "view-in-github",
        "colab_type": "text"
      },
      "source": [
        "<a href=\"https://colab.research.google.com/github/hocthucv/bt/blob/main/b%C3%A0i1-while.ipynb\" target=\"_parent\"><img src=\"https://colab.research.google.com/assets/colab-badge.svg\" alt=\"Open In Colab\"/></a>"
      ]
    },
    {
      "cell_type": "code",
      "metadata": {
        "id": "bXeMaF-vgL-w",
        "outputId": "0733d1ad-4b11-4bf2-9432-353039aa45ad",
        "colab": {
          "base_uri": "https://localhost:8080/",
          "height": 119
        }
      },
      "source": [
        "n=int(input(\"n=\"))\n",
        "count=1\n",
        "while count<=n:\n",
        "  print(\"Welcome to HUET\")\n",
        "  count+=1\n",
        "print(\"Finished\")"
      ],
      "execution_count": 31,
      "outputs": [
        {
          "output_type": "stream",
          "text": [
            "n=4\n",
            "Welcome to HUET\n",
            "Welcome to HUET\n",
            "Welcome to HUET\n",
            "Welcome to HUET\n",
            "Finished\n"
          ],
          "name": "stdout"
        }
      ]
    }
  ]
}