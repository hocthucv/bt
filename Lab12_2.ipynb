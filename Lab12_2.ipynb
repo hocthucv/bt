{
  "nbformat": 4,
  "nbformat_minor": 0,
  "metadata": {
    "colab": {
      "name": "Lab12.2.ipynb",
      "provenance": [],
      "collapsed_sections": [],
      "authorship_tag": "ABX9TyOf43fDlC+dsA1ijE0b1+8k",
      "include_colab_link": true
    },
    "kernelspec": {
      "name": "python3",
      "display_name": "Python 3"
    },
    "language_info": {
      "name": "python"
    }
  },
  "cells": [
    {
      "cell_type": "markdown",
      "metadata": {
        "id": "view-in-github",
        "colab_type": "text"
      },
      "source": [
        "<a href=\"https://colab.research.google.com/github/hocthucv/bt/blob/main/Lab12_2.ipynb\" target=\"_parent\"><img src=\"https://colab.research.google.com/assets/colab-badge.svg\" alt=\"Open In Colab\"/></a>"
      ]
    },
    {
      "cell_type": "code",
      "metadata": {
        "colab": {
          "base_uri": "https://localhost:8080/"
        },
        "id": "NaX54aOSYXO_",
        "outputId": "b1fa0206-65a1-4863-bd33-5c94ca9708d0"
      },
      "source": [
        "class Graph:\n",
        "\t\n",
        "\tdef __init__(self, V):\n",
        "\n",
        "\t\tself.V = V\n",
        "\t\tself.adj = [[] for i in range(self.V)]\n",
        "\n",
        "\t# Function to return the number of\n",
        "\t# connected components in an undirected graph\n",
        "\tdef NumberOfconnectedComponents(self):\n",
        "\t\t\n",
        "\t\tvisited = [False for i in range(self.V)]\n",
        "\t\tcount = 0\n",
        "\t\t\n",
        "\t\tfor v in range(self.V):\n",
        "\t\t\tif (visited[v] == False):\n",
        "\t\t\t\tself.DFSUtil(v, visited)\n",
        "\t\t\t\tcount += 1\n",
        "\t\t\t\t\n",
        "\t\treturn count\n",
        "\t\t\n",
        "\tdef DFSUtil(self, v, visited):\n",
        "\n",
        "\t\tvisited[v] = True\n",
        "\t\tfor i in self.adj[v]:\n",
        "\t\t\tif (not visited[i]):\n",
        "\t\t\t\tself.DFSUtil(i, visited)\n",
        "\t\t\t\t\n",
        "\t# Add an undirected edge\n",
        "\tdef addEdge(self, u, v):\n",
        "\t\t\n",
        "\t\tself.adj[u-1].append(v-1)\n",
        "\t\tself.adj[v-1].append(u-1)\n",
        "\t\t\n",
        "# Driver code\t\n",
        "if __name__=='__main__':\n",
        "    n, m = map(int, input().split())\n",
        "    g = Graph(n)\n",
        "    for i in range(m):\n",
        "        u, v = map(int, input().split())\n",
        "        g.addEdge(u, v)\n",
        "\t\n",
        "    print(g.NumberOfconnectedComponents())"
      ],
      "execution_count": 12,
      "outputs": [
        {
          "output_type": "stream",
          "text": [
            "5 3\n",
            "1 0\n",
            "2 3\n",
            "3 4\n",
            "2\n"
          ],
          "name": "stdout"
        }
      ]
    },
    {
      "cell_type": "code",
      "metadata": {
        "colab": {
          "base_uri": "https://localhost:8080/"
        },
        "id": "43Th5qH6bMHm",
        "outputId": "32ffee5d-8ee0-410b-e4a1-7de7f5a71728"
      },
      "source": [
        "[v for v in range(1, 4 + 1)]"
      ],
      "execution_count": 7,
      "outputs": [
        {
          "output_type": "execute_result",
          "data": {
            "text/plain": [
              "[1, 2, 3, 4]"
            ]
          },
          "metadata": {
            "tags": []
          },
          "execution_count": 7
        }
      ]
    }
  ]
}