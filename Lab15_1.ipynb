{
  "nbformat": 4,
  "nbformat_minor": 0,
  "metadata": {
    "colab": {
      "name": "Lab15.1.ipynb",
      "provenance": [],
      "collapsed_sections": [],
      "authorship_tag": "ABX9TyNzcor73CuUjmPiWRpAAMc7",
      "include_colab_link": true
    },
    "kernelspec": {
      "name": "python3",
      "display_name": "Python 3"
    },
    "language_info": {
      "name": "python"
    }
  },
  "cells": [
    {
      "cell_type": "markdown",
      "metadata": {
        "id": "view-in-github",
        "colab_type": "text"
      },
      "source": [
        "<a href=\"https://colab.research.google.com/github/hocthucv/bt/blob/main/Lab15_1.ipynb\" target=\"_parent\"><img src=\"https://colab.research.google.com/assets/colab-badge.svg\" alt=\"Open In Colab\"/></a>"
      ]
    },
    {
      "cell_type": "code",
      "metadata": {
        "colab": {
          "base_uri": "https://localhost:8080/"
        },
        "id": "D35I86m4Me98",
        "outputId": "fdb311c3-8572-4886-dbfe-1dddb0bc3771"
      },
      "source": [
        "import random\n",
        "\n",
        "def compute_prefix(text):\n",
        "    s = [0] * len(text)\n",
        "    s[0] = 0\n",
        "    border = 0\n",
        "\n",
        "    for idx in range(1, len(text)):\n",
        "\n",
        "        while (border > 0) and (text[idx] != text[border]):\n",
        "            border = s[border-1]\n",
        "\n",
        "        if text[idx] == text[border]:\n",
        "            border += 1\n",
        "        else:\n",
        "            border = 0\n",
        "\n",
        "        s[idx] = border\n",
        "\n",
        "    return s\n",
        "\n",
        "def find_pattern(pattern, text):\n",
        "    if len(pattern) > len(text):\n",
        "        return\n",
        "\n",
        "    \"\"\"\n",
        "    Find all the occurrences of the pattern in the text\n",
        "    and return a list of all positions in the text\n",
        "    where the pattern starts in the text.\n",
        "    \"\"\"\n",
        "    # randomly choose a symbol that is not A,T,G,C\n",
        "    random_text = 'BDEFHIJKLMNOPQRSUVWXYZ!@#$%^&*()_1234567890<>?-`~\";:,./'\n",
        "    mid = random.choice(random_text)\n",
        "\n",
        "#    K-N-P algorithm\n",
        "    X = pattern + mid + text\n",
        "    s = compute_prefix(X)\n",
        "    result = []\n",
        "\n",
        "    for idx in range(len(pattern)+1, len(X)):\n",
        "        if s[idx] == len(pattern):\n",
        "            result.append(idx - 2*len(pattern))\n",
        "\n",
        "    return result\n",
        "\n",
        "\n",
        "if __name__ == '__main__':\n",
        "    pattern = input().strip()\n",
        "    text = input().strip()\n",
        "    result = find_pattern(pattern, text)\n",
        "    if result:\n",
        "        print(\" \".join(map(str, result)))\n",
        "    else:\n",
        "        print()"
      ],
      "execution_count": 5,
      "outputs": [
        {
          "output_type": "stream",
          "text": [
            "ATAT\n",
            "GATATATGCATATACTT\n",
            "1 3 9\n"
          ],
          "name": "stdout"
        }
      ]
    }
  ]
}