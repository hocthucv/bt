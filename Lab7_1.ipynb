{
  "nbformat": 4,
  "nbformat_minor": 0,
  "metadata": {
    "colab": {
      "name": "Lab7.1.ipynb",
      "provenance": [],
      "collapsed_sections": [],
      "authorship_tag": "ABX9TyMqSDUTxnBD1EMULjP6UCv1",
      "include_colab_link": true
    },
    "kernelspec": {
      "name": "python3",
      "display_name": "Python 3"
    },
    "language_info": {
      "name": "python"
    }
  },
  "cells": [
    {
      "cell_type": "markdown",
      "metadata": {
        "id": "view-in-github",
        "colab_type": "text"
      },
      "source": [
        "<a href=\"https://colab.research.google.com/github/hocthucv/bt/blob/main/Lab7_1.ipynb\" target=\"_parent\"><img src=\"https://colab.research.google.com/assets/colab-badge.svg\" alt=\"Open In Colab\"/></a>"
      ]
    },
    {
      "cell_type": "code",
      "metadata": {
        "colab": {
          "base_uri": "https://localhost:8080/"
        },
        "id": "BsCBxJtlBBY7",
        "outputId": "1fc5dc66-a6f4-4257-b4f8-a5d32f0d91a1"
      },
      "source": [
        "def isBalanced(S):\n",
        "    stack = []\n",
        "    brac = {\"{\": \"}\", \"[\": \"]\", \"(\" : \")\"}\n",
        "    for i in S:\n",
        "        if i in brac.keys():\n",
        "            stack.append(i)\n",
        "        elif i in brac.values():\n",
        "            if i == brac.get(stack[-1]):\n",
        "                stack.pop()\n",
        "            else:\n",
        "                stack.append(i)\n",
        "    return \"Success\" if not stack else S.index(stack.pop()) + 1\n",
        "\n",
        "S = input()\n",
        "print(isBalanced(S))"
      ],
      "execution_count": 32,
      "outputs": [
        {
          "output_type": "stream",
          "text": [
            "{[}\n",
            "3\n"
          ],
          "name": "stdout"
        }
      ]
    }
  ]
}