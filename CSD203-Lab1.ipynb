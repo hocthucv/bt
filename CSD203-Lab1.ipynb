{
  "nbformat": 4,
  "nbformat_minor": 0,
  "metadata": {
    "colab": {
      "name": "Lab1.ipynb",
      "provenance": [],
      "authorship_tag": "ABX9TyMhTMiUayJqx1UaiiJTFV54",
      "include_colab_link": true
    },
    "kernelspec": {
      "name": "python3",
      "display_name": "Python 3"
    }
  },
  "cells": [
    {
      "cell_type": "markdown",
      "metadata": {
        "id": "view-in-github",
        "colab_type": "text"
      },
      "source": [
        "<a href=\"https://colab.research.google.com/github/hocthucv/bt/blob/main/CSD203-Lab1.ipynb\" target=\"_parent\"><img src=\"https://colab.research.google.com/assets/colab-badge.svg\" alt=\"Open In Colab\"/></a>"
      ]
    },
    {
      "cell_type": "code",
      "metadata": {
        "colab": {
          "base_uri": "https://localhost:8080/"
        },
        "id": "RIRCKKRjHqW7",
        "outputId": "1b64ddd7-9eaa-4aa1-fa8a-eced85b283bf"
      },
      "source": [
        "#Lab 1.1\r\n",
        "def fibonacci(n):\r\n",
        "    if  n <= 1:\r\n",
        "        return n\r\n",
        "    else:\r\n",
        "        return fibonacci(n-1) + fibonacci(n-2)\r\n",
        "\r\n",
        "fibonacci(int(input()))"
      ],
      "execution_count": 22,
      "outputs": [
        {
          "output_type": "stream",
          "text": [
            "8\n"
          ],
          "name": "stdout"
        },
        {
          "output_type": "execute_result",
          "data": {
            "text/plain": [
              "21"
            ]
          },
          "metadata": {
            "tags": []
          },
          "execution_count": 22
        }
      ]
    },
    {
      "cell_type": "code",
      "metadata": {
        "colab": {
          "base_uri": "https://localhost:8080/"
        },
        "id": "ptq95LrCFU-5",
        "outputId": "68f27c6e-930f-4f72-e8f1-d6810b9d77ea"
      },
      "source": [
        "#Lab1.2\r\n",
        "def fib(n):\r\n",
        "    if  n <= 1:\r\n",
        "        return n\r\n",
        "    else:\r\n",
        "        a, b = 0, 1\r\n",
        "        for i in range(1,n):\r\n",
        "            a, b = b, (a+b) % 10\r\n",
        "        return b\r\n",
        "\r\n",
        "fib(int(input()))"
      ],
      "execution_count": 24,
      "outputs": [
        {
          "output_type": "stream",
          "text": [
            "331\n"
          ],
          "name": "stdout"
        },
        {
          "output_type": "execute_result",
          "data": {
            "text/plain": [
              "9"
            ]
          },
          "metadata": {
            "tags": []
          },
          "execution_count": 24
        }
      ]
    }
  ]
}