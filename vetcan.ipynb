{
  "nbformat": 4,
  "nbformat_minor": 0,
  "metadata": {
    "colab": {
      "name": "Untitled11.ipynb",
      "provenance": [],
      "authorship_tag": "ABX9TyPnRLM9jiUbcXyjHO6dWd7E",
      "include_colab_link": true
    },
    "kernelspec": {
      "name": "python3",
      "display_name": "Python 3"
    }
  },
  "cells": [
    {
      "cell_type": "markdown",
      "metadata": {
        "id": "view-in-github",
        "colab_type": "text"
      },
      "source": [
        "<a href=\"https://colab.research.google.com/github/hocthucv/bt/blob/main/vetcan.ipynb\" target=\"_parent\"><img src=\"https://colab.research.google.com/assets/colab-badge.svg\" alt=\"Open In Colab\"/></a>"
      ]
    },
    {
      "cell_type": "code",
      "metadata": {
        "id": "TKn3s665GQKZ",
        "outputId": "7008f2fc-8490-4ed5-a0ae-38c88dd80476",
        "colab": {
          "base_uri": "https://localhost:8080/",
          "height": 68
        }
      },
      "source": [
        "import random\n",
        "a=[]\n",
        "random.seed(1)\n",
        "for i in range(15):\n",
        "  number=random.randint(0,1000)\n",
        "  a.append(number)\n",
        "print(a)\n",
        "n=int(input(\"n=\"))\n",
        "b=[]\n",
        "for j in range(15):\n",
        "  if n==a[j]:\n",
        "    b.append(j)\n",
        "print(\"vi tri\",b)\n",
        "  \n",
        "\n"
      ],
      "execution_count": 26,
      "outputs": [
        {
          "output_type": "stream",
          "text": [
            "[137, 582, 867, 821, 782, 64, 261, 120, 507, 779, 460, 483, 667, 388, 807]\n",
            "n=64\n",
            "vi tri [5]\n"
          ],
          "name": "stdout"
        }
      ]
    }
  ]
}